{
 "cells": [
  {
   "cell_type": "markdown",
   "id": "a8e0d72c",
   "metadata": {},
   "source": [
    "# Regular Expressions       \n"
   ]
  },
  {
   "cell_type": "markdown",
   "id": "24c0b164",
   "metadata": {},
   "source": [
    "## Name- Ranjan Pratap Singh                                                      DS2307"
   ]
  },
  {
   "cell_type": "markdown",
   "id": "e3cf202e",
   "metadata": {},
   "source": [
    "### Question 1- Write a Python program to replace all occurrences of a space, comma, or dot with a colon.\n",
    "### Sample Text- 'Python Exercises, PHP exercises.'\n",
    "### Expected Output: Python:Exercises::PHP:exercises:\n"
   ]
  },
  {
   "cell_type": "code",
   "execution_count": 196,
   "id": "3babd7b9",
   "metadata": {},
   "outputs": [],
   "source": [
    "import re"
   ]
  },
  {
   "cell_type": "code",
   "execution_count": 3,
   "id": "5c0183d9",
   "metadata": {},
   "outputs": [
    {
     "name": "stdout",
     "output_type": "stream",
     "text": [
      "Python:Exercises::PHP:exercises:\n"
     ]
    }
   ],
   "source": [
    "Sample_text = 'Python Exercises, PHP exercises.'\n",
    "z = (re.sub(\"[\\s,.]\", \":\", Sample_text))\n",
    "print(z)"
   ]
  },
  {
   "cell_type": "markdown",
   "id": "47ad87c5",
   "metadata": {},
   "source": [
    "### Question 2-  Write a Python program to find all words starting with 'a' or 'e' in a given string."
   ]
  },
  {
   "cell_type": "code",
   "execution_count": 208,
   "id": "b23e661c",
   "metadata": {},
   "outputs": [
    {
     "name": "stdout",
     "output_type": "stream",
     "text": [
      "['elephant', 'enters', 'an', 'apple']\n"
     ]
    }
   ],
   "source": [
    "text = \"An elephant enters in the jungle to find an apple. \"\n",
    "list1 = re.findall(r'\\b[ae]\\w+', text)\n",
    "print(list1)"
   ]
  },
  {
   "cell_type": "markdown",
   "id": "62fef849",
   "metadata": {},
   "source": [
    "### Question 3- Create a function in python to find all words that are at least 4 characters long in a string. The use of the re.compile() method is mandatory."
   ]
  },
  {
   "cell_type": "code",
   "execution_count": 216,
   "id": "88a575d2",
   "metadata": {},
   "outputs": [
    {
     "name": "stdout",
     "output_type": "stream",
     "text": [
      "['elephant', 'enters', 'jungle', 'find', 'apple']\n"
     ]
    }
   ],
   "source": [
    "text = \"An elephant enters in the jungle to find an apple.\"\n",
    "x = re.compile(r'\\b\\w{4,}\\b')\n",
    "result = x.findall(text)\n",
    "print(result)"
   ]
  },
  {
   "cell_type": "markdown",
   "id": "907e3d77",
   "metadata": {},
   "source": [
    "### Question 4- Create a function in python to find all three, four, and five character words in a string. The use of the re.compile() method is mandatory."
   ]
  },
  {
   "cell_type": "code",
   "execution_count": 255,
   "id": "7260353d",
   "metadata": {},
   "outputs": [
    {
     "name": "stdout",
     "output_type": "stream",
     "text": [
      "['the', 'find', 'apple', 'then', 'eats', 'the', 'apple']\n"
     ]
    }
   ],
   "source": [
    "text = \"An elephant enters in the jungle to find an apple.then he eats the apple.\"\n",
    "x = re.compile(r'\\b\\w{3,5}\\b')\n",
    "result = x.findall(text)\n",
    "print(result)"
   ]
  },
  {
   "cell_type": "markdown",
   "id": "93584006",
   "metadata": {},
   "source": [
    "### Question 5- Create a function in Python to remove the parenthesis in a list of strings. The use of the re.compile() method is mandatory.\n",
    "### Sample Text: [\"example (.com)\", \"hr@fliprobo (.com)\", \"github (.com)\", \"Hello (Data Science World)\", \"Data (Scientist)\"]\n",
    "### Expected Output:\n",
    "### example.com\n",
    "### hr@fliprobo.com\n",
    "### github.com\n",
    "### Hello Data Science World\n",
    "### Data Scientist\n"
   ]
  },
  {
   "cell_type": "code",
   "execution_count": 229,
   "id": "d96c4c65",
   "metadata": {},
   "outputs": [
    {
     "name": "stdout",
     "output_type": "stream",
     "text": [
      "['example.com', 'hr@fliprobo.com', 'github.com', 'HelloData Science World', 'DataScientist']\n"
     ]
    }
   ],
   "source": [
    "sample_text = [\"example (.com)\", \"hr@fliprobo (.com)\", \"github (.com)\", \"Hello (Data Science World)\", \"Data (Scientist)\"]\n",
    "pattern = re.compile(r'\\s?\\(([^)]+)\\)')\n",
    "\n",
    "x = [pattern.sub(r'\\1', s).strip() for s in sample_text]\n",
    "print(x)"
   ]
  },
  {
   "cell_type": "markdown",
   "id": "3b59e6b1",
   "metadata": {},
   "source": [
    "### Question 6- Write a python program to remove the parenthesis area from the text stored in the text file using Regular Expression.\n",
    "### Sample Text: [\"example (.com)\", \"hr@fliprobo (.com)\", \"github (.com)\", \"Hello (Data Science World)\", \"Data (Scientist)\"]\n",
    "### Expected Output: [\"example\", \"hr@fliprobo\", \"github\", \"Hello\", \"Data\"]\n",
    "### Note- Store given sample text in the text file and then to remove the parenthesis area from the text.\n"
   ]
  },
  {
   "cell_type": "code",
   "execution_count": 284,
   "id": "5abda6a8",
   "metadata": {},
   "outputs": [
    {
     "name": "stdout",
     "output_type": "stream",
     "text": [
      "['[\"example \", \"hr@fliprobo \", \"github \", \"Hello \", \"Data \"]']\n"
     ]
    }
   ],
   "source": [
    "with open(r\"C:\\Users\\RANJAN\\OneDrive\\Desktop\\Q6 regex.txt\", \"r\") as file:\n",
    "    x = file.readlines()\n",
    "    y = remove_parentheses(x)\n",
    "    print(cleaned_lines)\n",
    "def remove_parentheses(strings):\n",
    "    pattern = re.compile(r'\\([^()]*\\)')\n",
    "    z= [pattern.sub('', s).strip() for s in strings]\n",
    "    z\n"
   ]
  },
  {
   "cell_type": "markdown",
   "id": "bb21656d",
   "metadata": {},
   "source": [
    "### Question 7- Write a regular expression in Python to split a string into uppercase letters.\n",
    "### Sample text: “ImportanceOfRegularExpressionsInPython”\n",
    "### Expected Output: [‘Importance’, ‘Of’, ‘Regular’, ‘Expression’, ‘In’, ‘Python’]\n",
    "\n",
    "\n",
    "\n",
    "\n",
    "\n",
    "\n",
    "\n",
    "\n",
    "\n",
    "\n",
    "\n",
    "\n",
    "\n",
    "\n",
    "\n",
    "\n",
    "\n",
    "\n",
    "\n",
    "\n",
    "\n",
    "\n",
    "\n",
    "\n",
    "\n",
    "\n",
    "\n",
    "\n",
    "\n",
    "\n",
    "\n",
    "\n",
    "\n",
    "\n",
    "\n"
   ]
  },
  {
   "cell_type": "code",
   "execution_count": 233,
   "id": "cd3735b2",
   "metadata": {},
   "outputs": [
    {
     "name": "stdout",
     "output_type": "stream",
     "text": [
      "['Importance', 'Of', 'Regular', 'Expressions', 'In', 'Python']\n"
     ]
    }
   ],
   "source": [
    "Sample_text= \"ImportanceOfRegularExpressionsInPython\"\n",
    "Output = re.findall(r'[A-Z][a-z]*', Sample_text)\n",
    "print(Output )"
   ]
  },
  {
   "cell_type": "markdown",
   "id": "73af265c",
   "metadata": {},
   "source": [
    "### Question 8- Create a function in python to insert spaces between words starting with numbers.\n",
    "### Sample Text: “RegularExpression1IsAn2ImportantTopic3InPython\"\n",
    "### Expected Output: RegularExpression 1IsAn 2ImportantTopic 3InPython\n"
   ]
  },
  {
   "cell_type": "code",
   "execution_count": 294,
   "id": "07a3229d",
   "metadata": {},
   "outputs": [
    {
     "name": "stdout",
     "output_type": "stream",
     "text": [
      "['RegularExpression1 IsAn2 ImportantTopic3 InPython']\n"
     ]
    }
   ],
   "source": [
    "sample_text = ['RegularExpression1IsAn2ImportantTopic3InPython']\n",
    "x = [re.sub(r'(?<=\\d)(?=[A-Za-z])', r' ', text) for text in sample_text]\n",
    "print(x)"
   ]
  },
  {
   "cell_type": "markdown",
   "id": "3298c7f0",
   "metadata": {},
   "source": [
    "### Question 9- Create a function in python to insert spaces between words starting with capital letters or with numbers.\n",
    "### Sample Text: “RegularExpression1IsAn2ImportantTopic3InPython\"\n",
    "### Expected Output:  RegularExpression 1 IsAn 2 ImportantTopic 3 InPython\n"
   ]
  },
  {
   "cell_type": "code",
   "execution_count": 289,
   "id": "c1607a7e",
   "metadata": {},
   "outputs": [
    {
     "name": "stdout",
     "output_type": "stream",
     "text": [
      "['RegularExpression 1 IsAn 2 ImportantTopic 3 InPython']\n"
     ]
    }
   ],
   "source": [
    "sample_text = ['RegularExpression1IsAn2ImportantTopic3InPython']\n",
    "x = [re.sub(r'(?<=[A-Za-z])(?=\\d)|(?<=\\d)(?=[A-Za-z])', r' ', text) for text in sample_text]\n",
    "print(x)"
   ]
  },
  {
   "cell_type": "markdown",
   "id": "1753bac8",
   "metadata": {},
   "source": [
    "\n",
    "### Question 10- Write a python program to extract email address from the text stored in the text file using Regular Expression.\n",
    "### Sample Text- Hello my name is Data Science and my email address is xyz@domain.com and alternate email address is xyz.abc@sdomain.domain.com. \n",
    "### Please contact us at hr@fliprobo.com for further information. \n",
    "### Expected Output: \n",
    "### ['xyz@domain.com', 'xyz.abc@sdomain.domain.com']\n",
    "### ['hr@fliprobo.com']\n",
    "### Note- Store given sample text in the text file and then extract email addresses."
   ]
  },
  {
   "cell_type": "code",
   "execution_count": 266,
   "id": "755ab7bd",
   "metadata": {},
   "outputs": [
    {
     "name": "stdout",
     "output_type": "stream",
     "text": [
      "['xyz@domain.com']\n",
      "['xyz.abc@sdomain.domain.com']\n",
      "['hr@fliprobo.com for']\n",
      "[]\n",
      "['xyz@domain.com', 'xyz.abc@sdomain.domain.com']\n",
      "['hr@fliprobo.com']\n"
     ]
    }
   ],
   "source": [
    "with open(r\"C:\\Users\\RANJAN\\OneDrive\\Desktop\\Q10 regex.txt\") as file:\n",
    "    for line in file:\n",
    "        pattern = '[a-zA-Z0-9._%+-]+@[a-zA-Z0-9.-]+.[a-zA-Z]{2,}'\n",
    "        urls = re.findall(pattern, line)\n",
    "        print(urls)"
   ]
  },
  {
   "cell_type": "markdown",
   "id": "447540c6",
   "metadata": {},
   "source": [
    "### Question 11- Write a Python program to match a string that contains only upper and lowercase letters, numbers, and underscores."
   ]
  },
  {
   "cell_type": "code",
   "execution_count": 78,
   "id": "16557c03",
   "metadata": {},
   "outputs": [
    {
     "name": "stdout",
     "output_type": "stream",
     "text": [
      "['Xtx_232']\n"
     ]
    }
   ],
   "source": [
    "\n",
    "input = (\"Ram goes to school and his seat no is Xtx_232\")\n",
    "patterns = '[a-zA-Z]+[0-9_]+'\n",
    "x=re.findall(patterns, input)\n",
    "print(x)"
   ]
  },
  {
   "cell_type": "markdown",
   "id": "c31c0e17",
   "metadata": {},
   "source": [
    "### Question 12- Write a Python program where a string will start with a specific number. "
   ]
  },
  {
   "cell_type": "code",
   "execution_count": 83,
   "id": "889fe2d2",
   "metadata": {},
   "outputs": [
    {
     "name": "stdout",
     "output_type": "stream",
     "text": [
      "['8shyam']\n"
     ]
    }
   ],
   "source": [
    "input = (\" Ram 8shyam sundar 4seeta\")\n",
    "x=re.findall(r'\\b8[\\w]*',input)\n",
    "print(x)\n",
    "\n"
   ]
  },
  {
   "cell_type": "code",
   "execution_count": 95,
   "id": "becd97c3",
   "metadata": {},
   "outputs": [],
   "source": [
    "#  conclusion Q12 -- here it only consider number 8"
   ]
  },
  {
   "cell_type": "markdown",
   "id": "6219b0fa",
   "metadata": {},
   "source": [
    "### Question 13- Write a Python program to remove leading zeros from an IP address"
   ]
  },
  {
   "cell_type": "code",
   "execution_count": 94,
   "id": "4780eefc",
   "metadata": {},
   "outputs": [
    {
     "name": "stdout",
     "output_type": "stream",
     "text": [
      "2409:4d0:e:25c2:30f5:a88:7b8:7ea1\n"
     ]
    }
   ],
   "source": [
    "ip = \"2409:04d0:e:25c2:30f5:0a88:07b8:7ea1\"\n",
    "string = re.sub('\\:[0]*', ':', ip)\n",
    "print(string)"
   ]
  },
  {
   "cell_type": "code",
   "execution_count": 96,
   "id": "5c95105d",
   "metadata": {},
   "outputs": [],
   "source": [
    "# zeroes removed from 04d0 , 0a88 , 07b8"
   ]
  },
  {
   "cell_type": "markdown",
   "id": "23645308",
   "metadata": {},
   "source": [
    "### Question 14- Write a regular expression in python to match a date string in the form of Month name followed by day number and year stored in a text file.\n",
    "### Sample text :  ' On August 15th 1947 that India was declared independent from British colonialism, and the reins of control were handed over to the leaders of the Country’.\n",
    "### Expected Output- August 15th 1947\n",
    "### Note- Store given sample text in the text file and then extract the date string asked format."
   ]
  },
  {
   "cell_type": "code",
   "execution_count": 97,
   "id": "978381fa",
   "metadata": {},
   "outputs": [
    {
     "name": "stdout",
     "output_type": "stream",
     "text": [
      "<re.Match object; span=(3, 19), match='August 15th 1947'>\n"
     ]
    }
   ],
   "source": [
    "string= \"On August 15th 1947 that India was declared independent from British colonialism\"\n",
    "pattern = \"([a-zA-Z]+) (\\d+[a-z]+) (\\d+)\"\n",
    "matched = re.search(pattern, string)\n",
    "print (matched)"
   ]
  },
  {
   "cell_type": "markdown",
   "id": "3d01dbde",
   "metadata": {},
   "source": [
    "### Question 15- Write a Python program to search some literals strings in a string. \n",
    "### Sample text : 'The quick brown fox jumps over the lazy dog.'\n",
    "### Searched words : 'fox', 'dog', 'horse'"
   ]
  },
  {
   "cell_type": "code",
   "execution_count": 117,
   "id": "2fab4e8d",
   "metadata": {},
   "outputs": [
    {
     "name": "stdout",
     "output_type": "stream",
     "text": [
      "['fox', 'dog']\n"
     ]
    }
   ],
   "source": [
    "Sample_text = 'The quick brown fox jumps over the lazy dog.'\n",
    "Searched_words = [ 'fox', 'dog', 'horse' ]\n",
    "Animal = []\n",
    "\n",
    "for Searched_words in patterns:\n",
    "    x = re.findall(Searched_words , Sample_text)\n",
    "    Animal.extend(x)\n",
    "\n",
    "print(Animal)"
   ]
  },
  {
   "cell_type": "markdown",
   "id": "8773b599",
   "metadata": {},
   "source": [
    "### Question 16- Write a Python program to search a literals string in a string and also find the location within the original string where the pattern occurs\n",
    "### Sample text : 'The quick brown fox jumps over the lazy dog.'\n",
    "### Searched words : 'fox'\n"
   ]
  },
  {
   "cell_type": "code",
   "execution_count": 120,
   "id": "adab02af",
   "metadata": {},
   "outputs": [
    {
     "name": "stdout",
     "output_type": "stream",
     "text": [
      "<re.Match object; span=(16, 19), match='fox'>\n"
     ]
    }
   ],
   "source": [
    "Sample_text = 'The quick brown fox jumps over the lazy dog.'\n",
    "pattern = 'fox'\n",
    "\n",
    "x = re.search(pattern, Sample_text)\n",
    "print(x)\n"
   ]
  },
  {
   "cell_type": "code",
   "execution_count": null,
   "id": "d59a81ad",
   "metadata": {},
   "outputs": [],
   "source": [
    "# so the loaction is from 16 to 19"
   ]
  },
  {
   "cell_type": "markdown",
   "id": "d4b9ee0e",
   "metadata": {},
   "source": [
    "### Question 17- Write a Python program to find the substrings within a string.\n",
    "### Sample text : 'Python exercises, PHP exercises, C# exercises'\n",
    "### Pattern : 'exercises'.\n"
   ]
  },
  {
   "cell_type": "code",
   "execution_count": 145,
   "id": "1893c7f0",
   "metadata": {},
   "outputs": [
    {
     "name": "stdout",
     "output_type": "stream",
     "text": [
      "exercises\n",
      "exercises\n",
      "exercises\n"
     ]
    }
   ],
   "source": [
    "Smaple_text = 'Python exercises, PHP exercises, C# exercises'\n",
    "pattern = 'exercises'\n",
    "for x in re.findall(pattern, text):\n",
    "    print(x) "
   ]
  },
  {
   "cell_type": "markdown",
   "id": "811af114",
   "metadata": {},
   "source": [
    "### Question 18- Write a Python program to find the occurrence and position of the substrings within a string.\n"
   ]
  },
  {
   "cell_type": "code",
   "execution_count": 175,
   "id": "a9ee2fe4",
   "metadata": {},
   "outputs": [
    {
     "name": "stdout",
     "output_type": "stream",
     "text": [
      "exercises , position- (7, 16)\n",
      "exercises , position- (22, 31)\n",
      "exercises , position- (36, 45)\n"
     ]
    }
   ],
   "source": [
    "Sample_text = 'Python exercises, PHP exercises, C# exercises'\n",
    "pattern = 'exercises'\n",
    "for x in re.finditer(pattern, Sample_text):\n",
    "    start = x.start()\n",
    "    end = x.end()\n",
    "    print(Sample_text[start:end],', position-',(start, end))"
   ]
  },
  {
   "cell_type": "markdown",
   "id": "28d63bcf",
   "metadata": {},
   "source": [
    "### Question 19- Write a Python program to convert a date of yyyy-mm-dd format to dd-mm-yyyy format."
   ]
  },
  {
   "cell_type": "code",
   "execution_count": 149,
   "id": "16dca3f8",
   "metadata": {},
   "outputs": [
    {
     "name": "stdout",
     "output_type": "stream",
     "text": [
      "02-01-2026\n"
     ]
    }
   ],
   "source": [
    "Date = \"2026-01-02\"\n",
    "x = re.sub(r'(\\d{4})-(\\d{1,2})-(\\d{1,2})', '\\\\3-\\\\2-\\\\1', Date)\n",
    "print(x)"
   ]
  },
  {
   "cell_type": "markdown",
   "id": "269f672f",
   "metadata": {},
   "source": [
    "### Question 20- Create a function in python to find all decimal numbers with a precision of 1 or 2 in a string. The use of the re.compile() method is mandatory."
   ]
  },
  {
   "cell_type": "code",
   "execution_count": 302,
   "id": "8c280e99",
   "metadata": {},
   "outputs": [
    {
     "name": "stdout",
     "output_type": "stream",
     "text": [
      "['45.6', '75.12']\n"
     ]
    }
   ],
   "source": [
    "sample_text = \"The temperature today is 45.6°C, and the humidity is 75.12%.\"\n",
    "pattern = re.compile(r'\\b\\d+\\.\\d{1,2}\\b')\n",
    "x = pattern.findall(sample_text)\n",
    "print(x)"
   ]
  },
  {
   "cell_type": "markdown",
   "id": "c8360afe",
   "metadata": {},
   "source": [
    "### Question 21- Write a Python program to separate and print the numbers and their position of a given string."
   ]
  },
  {
   "cell_type": "code",
   "execution_count": 159,
   "id": "0610c9f1",
   "metadata": {},
   "outputs": [
    {
     "name": "stdout",
     "output_type": "stream",
     "text": [
      "947 position (31, 34)\n",
      "896 position (36, 39)\n",
      "926 position (41, 44)\n"
     ]
    }
   ],
   "source": [
    "Sample_text = \"My marks in each semester are: 947, 896, 926\"\n",
    "for x in re.finditer(r\"\\d+\", Sample_text):\n",
    "    matched_text = x.group()\n",
    "    start = x.start()\n",
    "    end = x.end()\n",
    "    print((matched_text),'position', (start, end))"
   ]
  },
  {
   "cell_type": "markdown",
   "id": "2f738731",
   "metadata": {},
   "source": [
    "### Question 22- Write a regular expression in python program to extract maximum/largest numeric value from a string.\n",
    "### Sample Text:  'My marks in each semester are: 947, 896, 926, 524, 734, 950, 642'\n",
    "### Expected Output: 950"
   ]
  },
  {
   "cell_type": "code",
   "execution_count": 178,
   "id": "8a1d49e2",
   "metadata": {},
   "outputs": [
    {
     "name": "stdout",
     "output_type": "stream",
     "text": [
      "950\n"
     ]
    }
   ],
   "source": [
    "Sample_text = 'My marks in each semester are: 947, 896, 926, 524, 734, 950, 642'\n",
    "x = re.findall(r'\\d+', Sample_text)\n",
    "x = [int(value) for value in numeric_values]\n",
    "Largest_value = max(x)\n",
    "\n",
    "print(Largest_value)\n"
   ]
  },
  {
   "cell_type": "markdown",
   "id": "9934883d",
   "metadata": {},
   "source": [
    "### Question 23- Create a function in python to insert spaces between words starting with capital letters.\n",
    "### Sample Text: “RegularExpressionIsAnImportantTopicInPython\"\n",
    "### Expected Output: Regular Expression Is An Important Topic In Python\n"
   ]
  },
  {
   "cell_type": "code",
   "execution_count": 303,
   "id": "60e54c8a",
   "metadata": {},
   "outputs": [
    {
     "name": "stdout",
     "output_type": "stream",
     "text": [
      "Regular Expression Is An Important Topic In Python\n"
     ]
    }
   ],
   "source": [
    "def putSpace(input):\n",
    " words = re.findall('[A-Z][a-z]*', input)\n",
    " print(' '.join(words))\n",
    "\n",
    "input = 'RegularExpressionIsAnImportantTopicInPython'\n",
    "putSpace(input)"
   ]
  },
  {
   "cell_type": "markdown",
   "id": "c7ec50f8",
   "metadata": {},
   "source": [
    "### Question 24- Python regex to find sequences of one upper case letter followed by lower case letters"
   ]
  },
  {
   "cell_type": "code",
   "execution_count": 202,
   "id": "5ee30178",
   "metadata": {},
   "outputs": [
    {
     "name": "stdout",
     "output_type": "stream",
     "text": [
      "['Ram', 'Sham', 'Mohan']\n"
     ]
    }
   ],
   "source": [
    "text = \"Ram Sham seeta radha geeta Mohan \"\n",
    "pattern = r'[A-Z][a-z]*'\n",
    "matches = re.findall(pattern, text)\n",
    "print(matches)"
   ]
  },
  {
   "cell_type": "markdown",
   "id": "10a8944e",
   "metadata": {},
   "source": [
    "### Question 25- Write a Python program to remove continuous duplicate words from Sentence using Regular Expression.\n",
    "### Sample Text: \"Hello hello world world\"\n",
    "### Expected Output: Hello hello world"
   ]
  },
  {
   "cell_type": "code",
   "execution_count": 49,
   "id": "278ba51d",
   "metadata": {},
   "outputs": [
    {
     "name": "stdout",
     "output_type": "stream",
     "text": [
      "Hello hello world\n"
     ]
    }
   ],
   "source": [
    "Input = \"Hello hello world world\"\n",
    "x = (re.sub(r'\\b(\\w+)(?:\\W+\\1\\b)+', r'\\1',Input))\n",
    "\n",
    "print(x)\n"
   ]
  },
  {
   "cell_type": "markdown",
   "id": "d617b0f6",
   "metadata": {},
   "source": [
    "### Question 26-  Write a python program using RegEx to accept string ending with alphanumeric character."
   ]
  },
  {
   "cell_type": "code",
   "execution_count": 310,
   "id": "1605d7e6",
   "metadata": {},
   "outputs": [
    {
     "name": "stdout",
     "output_type": "stream",
     "text": [
      "ranjan@' does not end with an alphanumeric character.\n",
      "Ranjan123 ends with an alphanumeric character.\n",
      "mohit666 ends with an alphanumeric character.\n",
      "ram_' does not end with an alphanumeric character.\n"
     ]
    }
   ],
   "source": [
    "regex = r'[a-zA-Z0-9]$'\n",
    "\n",
    "strings = [\"ranjan@\", \"Ranjan123\", \"mohit666\", \"ram_\"]\n",
    "\n",
    "for string in strings:\n",
    "    if re.search(regex, string):\n",
    "        print(f\"{string} ends with an alphanumeric character.\")\n",
    "    else:\n",
    "        print(f\"{string}' does not end with an alphanumeric character.\")\n",
    "\n"
   ]
  },
  {
   "cell_type": "markdown",
   "id": "1eee5482",
   "metadata": {},
   "source": [
    "### Question 27-Write a python program using RegEx to extract the hashtags.\n",
    "### Sample Text:  \"\"\"RT @kapil_kausik: #Doltiwal I mean #xyzabc is \"hurt\" by #Demonetization as the same has rendered USELESS <ed><U+00A0><U+00BD><ed><U+00B1><U+0089> \"acquired funds\" No wo\"\"\"\n",
    "### Expected Output: ['#Doltiwal', '#xyzabc', '#Demonetization']"
   ]
  },
  {
   "cell_type": "code",
   "execution_count": 36,
   "id": "d151f625",
   "metadata": {},
   "outputs": [
    {
     "name": "stdout",
     "output_type": "stream",
     "text": [
      "\n",
      " Hashtag:\n",
      " ['#Doltiwal', '#xyzabc', '#Demonetization']\n"
     ]
    }
   ],
   "source": [
    "Sample_text = \"\"\"RT @kapil_kausik: #Doltiwal I mean #xyzabc is \"hurt\" by #Demonetization as thehashtags = re.findall(r\"#\\w+\", text)\"\"\"\n",
    "hashtags = re.findall(r\"#\\w+\", Sample_text)\n",
    "print(\"\\n Hashtag:\\n\", hashtags)"
   ]
  },
  {
   "cell_type": "markdown",
   "id": "4c77be70",
   "metadata": {},
   "source": [
    "### Question 28- Write a python program using RegEx to remove <U+..> like symbols\n",
    "### Check the below sample text, there are strange symbols something of the sort <U+..> all over the place. You need to come up with a general Regex expression that will cover all such symbols.\n",
    "### Sample Text: \"@Jags123456 Bharat band on 28??<ed><U+00A0><U+00BD><ed><U+00B8><U+0082>Those who  are protesting #demonetization  are all different party leaders\"\n",
    "### Expected Output: @Jags123456 Bharat band on 28??<ed><ed>Those who  are protesting #demonetization  are all different party leaders\n"
   ]
  },
  {
   "cell_type": "code",
   "execution_count": 62,
   "id": "7452387b",
   "metadata": {},
   "outputs": [
    {
     "name": "stdout",
     "output_type": "stream",
     "text": [
      "\n",
      " expected output:\n",
      " @Jags123456 Bharat band on 28??Those who are protesting #demonetization are all different party leaders\n"
     ]
    }
   ],
   "source": [
    "Output= \"@Jags123456 Bharat band on 28??<U+00A0><U+00BD><U+00B8><U+0082>Those who are protesting #demonetization are all different party leaders\"\n",
    "Expected_output = re.sub(r\"<U\\+[A-Z0-9]+>\", \"\", Output)\n",
    "print(\"\\n expected output:\\n\", Expected_output)"
   ]
  },
  {
   "cell_type": "markdown",
   "id": "c621cc80",
   "metadata": {},
   "source": [
    "### Question 29- Write a python program to extract dates from the text stored in the text file.\n",
    "### Sample Text: Ron was born on 12-09-1992 and he was admitted to school 15-12-1999.\n",
    "### Note- Store this sample text in the file and then extract dates."
   ]
  },
  {
   "cell_type": "code",
   "execution_count": 27,
   "id": "36b1be67",
   "metadata": {},
   "outputs": [
    {
     "name": "stdout",
     "output_type": "stream",
     "text": [
      "['12-09-1992', '15-12-1999']\n"
     ]
    }
   ],
   "source": [
    "import re\n",
    "with open(r\"C:\\Users\\RANJAN\\OneDrive\\Desktop\\q29 regex.txt\") as file:\n",
    "    for line in file:\n",
    "        Dates = re.findall(r\"\\d{2}-\\d{2}-\\d{4}\", line)\n",
    "        print(Dates)\n"
   ]
  },
  {
   "cell_type": "markdown",
   "id": "0940041b",
   "metadata": {},
   "source": [
    "\n",
    "### Question 30- Create a function in python to remove all words from a string of length between 2 and 4.\n",
    "### The use of the re.compile() method is mandatory.\n",
    "### Sample Text: \"The following example creates an ArrayList with a capacity of 50 elements. 4 elements are then added to the ArrayList and the ArrayList is trimmed accordingly.\"\n",
    "### Expected Output:  following example creates ArrayList a capacity elements. 4 elements added ArrayList ArrayList trimmed accordingly."
   ]
  },
  {
   "cell_type": "code",
   "execution_count": 254,
   "id": "c9465013",
   "metadata": {},
   "outputs": [
    {
     "name": "stdout",
     "output_type": "stream",
     "text": [
      " following example creates  ArrayList  a capacity   elements4 elements   added   ArrayList   ArrayList  trimmed accordingly.\n"
     ]
    }
   ],
   "source": [
    "text =  \"The following example creates an ArrayList with a capacity of 50 elements. 4 elements are then added to the ArrayList and the ArrayList is trimmed accordingly.\"\n",
    "x = re.compile(r'\\b\\w{2,4}\\b|\\b\\W{2,4}\\b')\n",
    "result = x.sub('', text)\n",
    "print(result)"
   ]
  }
 ],
 "metadata": {
  "kernelspec": {
   "display_name": "Python 3 (ipykernel)",
   "language": "python",
   "name": "python3"
  },
  "language_info": {
   "codemirror_mode": {
    "name": "ipython",
    "version": 3
   },
   "file_extension": ".py",
   "mimetype": "text/x-python",
   "name": "python",
   "nbconvert_exporter": "python",
   "pygments_lexer": "ipython3",
   "version": "3.9.13"
  }
 },
 "nbformat": 4,
 "nbformat_minor": 5
}
