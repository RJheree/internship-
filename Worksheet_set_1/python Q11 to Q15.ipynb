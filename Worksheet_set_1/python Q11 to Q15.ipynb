{
 "cells": [
  {
   "cell_type": "markdown",
   "id": "ce11406e",
   "metadata": {},
   "source": [
    "### 11.\tWrite a python program to find the factorial of a number. \n",
    "\n",
    "\n",
    "\n"
   ]
  },
  {
   "cell_type": "code",
   "execution_count": 13,
   "id": "c1ea59f0",
   "metadata": {},
   "outputs": [
    {
     "name": "stdout",
     "output_type": "stream",
     "text": [
      "Enter a number: 23\n",
      "the factorial of 23 is 25852016738884976640000\n"
     ]
    }
   ],
   "source": [
    "x = int(input(\"Enter a number: \"))\n",
    "\n",
    "fact = 1\n",
    "\n",
    "if x< 0:\n",
    "    print (\"factorial does not exist\")\n",
    "if x == 0:\n",
    "    print(\"factroial of 0 is \", 1)\n",
    "if x> 0:\n",
    "    for i in range (1,x+1):\n",
    "        fact = fact * i\n",
    "print(\"the factorial of\",x,\"is\",fact)\n",
    "\n"
   ]
  },
  {
   "cell_type": "markdown",
   "id": "dcb2bc80",
   "metadata": {},
   "source": [
    "### 12.\tWrite a python program to find whether a number is prime or composite. "
   ]
  },
  {
   "cell_type": "code",
   "execution_count": 35,
   "id": "674d3529",
   "metadata": {},
   "outputs": [
    {
     "name": "stdout",
     "output_type": "stream",
     "text": [
      "Enter the number:-98\n",
      "The number is a composite number\n"
     ]
    }
   ],
   "source": [
    "x = int(input(\"Enter the number:-\"))\n",
    "if x<2:\n",
    "    print (\"The number is neither composite not prime number\")\n",
    "else:\n",
    "    for i in range(2,x):\n",
    "        if x%i==0:\n",
    "            print(\"The number is a composite number\")\n",
    "            break \n",
    "    else:\n",
    "        print(\"The number is a prime number\")"
   ]
  },
  {
   "cell_type": "markdown",
   "id": "bbc90d23",
   "metadata": {},
   "source": [
    "### 13.\tWrite a python program to check whether a given string is palindrome or not. "
   ]
  },
  {
   "cell_type": "code",
   "execution_count": 34,
   "id": "282ea328",
   "metadata": {},
   "outputs": [
    {
     "name": "stdout",
     "output_type": "stream",
     "text": [
      "Enter string:-naman\n",
      "It is Palindrome string\n"
     ]
    }
   ],
   "source": [
    "x=input(\"Enter string:-\")\n",
    "y= x[-1::-1]\n",
    "if(x==y):\n",
    "    print(\"It is Palindrome string\")\n",
    "else:\n",
    "    print(\"It is not Palindrome string\") "
   ]
  },
  {
   "cell_type": "markdown",
   "id": "e41d1186",
   "metadata": {},
   "source": [
    "### 14.\tWrite a Python program to get the third side of right-angled triangle from two given sides. "
   ]
  },
  {
   "cell_type": "code",
   "execution_count": 17,
   "id": "37446d89",
   "metadata": {},
   "outputs": [
    {
     "name": "stdout",
     "output_type": "stream",
     "text": [
      "Enter first side: 3\n",
      "Entersecond side: 4\n",
      "the third side of traingle is 5.0\n"
     ]
    }
   ],
   "source": [
    "x= int(input(\"Enter first side: \"))\n",
    "y = int(input(\"Entersecond side: \"))\n",
    "\n",
    "def  side_3(x,y):\n",
    "    z =(x**2 + y**2)**0.5\n",
    "    return z\n",
    "third_side = side_3(x,y)\n",
    "print(\"the third side of traingle is\", third_side)\n",
    " "
   ]
  },
  {
   "cell_type": "markdown",
   "id": "e96e189b",
   "metadata": {},
   "source": [
    "### 15.\tWrite a python program to print the frequency of each of the characters present in a given string. \n"
   ]
  },
  {
   "cell_type": "code",
   "execution_count": 4,
   "id": "00b07a38",
   "metadata": {},
   "outputs": [
    {
     "name": "stdout",
     "output_type": "stream",
     "text": [
      "Enter  string: ram is my name\n",
      "Character frequency:\n",
      "'r': 1\n",
      "'a': 2\n",
      "'m': 3\n",
      "' ': 3\n",
      "'i': 1\n",
      "'s': 1\n",
      "'y': 1\n",
      "'n': 1\n",
      "'e': 1\n"
     ]
    }
   ],
   "source": [
    "def count_frequency(input_string):\n",
    "    frequency = {}\n",
    "    for char in input_string:\n",
    "        frequency[char] = frequency.get(char, 0) + 1\n",
    "    return frequency\n",
    "\n",
    "input_string = input(\"Enter  string: \")\n",
    "\n",
    "character_frequency = count_frequency(input_string)\n",
    "\n",
    "\n",
    "print(\"Character frequency:\")\n",
    "for char, freq in character_frequency.items():\n",
    "    print(f\"'{char}': {freq}\")"
   ]
  }
 ],
 "metadata": {
  "kernelspec": {
   "display_name": "Python 3 (ipykernel)",
   "language": "python",
   "name": "python3"
  },
  "language_info": {
   "codemirror_mode": {
    "name": "ipython",
    "version": 3
   },
   "file_extension": ".py",
   "mimetype": "text/x-python",
   "name": "python",
   "nbconvert_exporter": "python",
   "pygments_lexer": "ipython3",
   "version": "3.9.13"
  }
 },
 "nbformat": 4,
 "nbformat_minor": 5
}
