{
 "cells": [
  {
   "cell_type": "markdown",
   "id": "c0118c99",
   "metadata": {},
   "source": [
    "# Web scrapping assignment by Beautifulsoup\n"
   ]
  },
  {
   "cell_type": "markdown",
   "id": "ec1ea9e2",
   "metadata": {},
   "source": [
    "## Name- Ranjan Pratap Singh                                                      DS2307"
   ]
  },
  {
   "cell_type": "code",
   "execution_count": 1,
   "id": "3fcd5585",
   "metadata": {},
   "outputs": [
    {
     "name": "stdout",
     "output_type": "stream",
     "text": [
      "Defaulting to user installation because normal site-packages is not writeable\n",
      "Collecting bs4\n",
      "  Downloading bs4-0.0.1.tar.gz (1.1 kB)\n",
      "  Preparing metadata (setup.py): started\n",
      "  Preparing metadata (setup.py): finished with status 'done'\n",
      "Requirement already satisfied: beautifulsoup4 in c:\\programdata\\anaconda3\\lib\\site-packages (from bs4) (4.11.1)\n",
      "Requirement already satisfied: soupsieve>1.2 in c:\\programdata\\anaconda3\\lib\\site-packages (from beautifulsoup4->bs4) (2.3.1)\n",
      "Building wheels for collected packages: bs4\n",
      "  Building wheel for bs4 (setup.py): started\n",
      "  Building wheel for bs4 (setup.py): finished with status 'done'\n",
      "  Created wheel for bs4: filename=bs4-0.0.1-py3-none-any.whl size=1257 sha256=3de6f2a79fff83f8a4ac4acf6b396d4d170f0b323cf6aade314c525ee986dec3\n",
      "  Stored in directory: c:\\users\\ranjan\\appdata\\local\\pip\\cache\\wheels\\73\\2b\\cb\\099980278a0c9a3e57ff1a89875ec07bfa0b6fcbebb9a8cad3\n",
      "Successfully built bs4\n",
      "Installing collected packages: bs4\n",
      "Successfully installed bs4-0.0.1\n",
      "Defaulting to user installation because normal site-packages is not writeable\n",
      "Requirement already satisfied: requests in c:\\programdata\\anaconda3\\lib\\site-packages (2.28.1)\n",
      "Requirement already satisfied: certifi>=2017.4.17 in c:\\programdata\\anaconda3\\lib\\site-packages (from requests) (2022.9.14)\n",
      "Requirement already satisfied: charset-normalizer<3,>=2 in c:\\programdata\\anaconda3\\lib\\site-packages (from requests) (2.0.4)\n",
      "Requirement already satisfied: urllib3<1.27,>=1.21.1 in c:\\programdata\\anaconda3\\lib\\site-packages (from requests) (1.26.11)\n",
      "Requirement already satisfied: idna<4,>=2.5 in c:\\programdata\\anaconda3\\lib\\site-packages (from requests) (3.3)\n"
     ]
    }
   ],
   "source": [
    "!pip install bs4\n",
    "!pip install requests"
   ]
  },
  {
   "cell_type": "code",
   "execution_count": 30,
   "id": "b4063ab2",
   "metadata": {},
   "outputs": [],
   "source": [
    "from  bs4 import BeautifulSoup\n",
    "import requests"
   ]
  },
  {
   "cell_type": "markdown",
   "id": "09ea2313",
   "metadata": {},
   "source": [
    "\n",
    " ### 1)\tWrite a python program to display all the header tags from wikipedia.org and make data frame. \n"
   ]
  },
  {
   "cell_type": "code",
   "execution_count": 31,
   "id": "173c3756",
   "metadata": {},
   "outputs": [],
   "source": [
    "url = requests.get('https://en.wikipedia.org/wiki/Main_Page')\n"
   ]
  },
  {
   "cell_type": "code",
   "execution_count": 32,
   "id": "7808ebab",
   "metadata": {},
   "outputs": [],
   "source": [
    "soup = BeautifulSoup(url.content)\n"
   ]
  },
  {
   "cell_type": "code",
   "execution_count": 34,
   "id": "11660e82",
   "metadata": {},
   "outputs": [
    {
     "name": "stdout",
     "output_type": "stream",
     "text": [
      "Welcome to Wikipedia\n",
      "\n",
      "From today's featured article\n",
      "\n",
      "Did you know ...\n",
      "\n",
      "In the news\n",
      "\n",
      "On this day\n",
      "\n",
      "Today's featured picture\n",
      "\n",
      "Other areas of Wikipedia\n",
      "\n",
      "Wikipedia's sister projects\n",
      "\n",
      "Wikipedia languages\n"
     ]
    }
   ],
   "source": [
    "header =[]\n",
    "for i in soup.find_all('span',class_=\"mw-headline\"):\n",
    "    header.append(i.text)\n",
    "print(*header,sep='\\n\\n')"
   ]
  },
  {
   "cell_type": "code",
   "execution_count": 35,
   "id": "a97d3ea1",
   "metadata": {},
   "outputs": [
    {
     "data": {
      "text/html": [
       "<div>\n",
       "<style scoped>\n",
       "    .dataframe tbody tr th:only-of-type {\n",
       "        vertical-align: middle;\n",
       "    }\n",
       "\n",
       "    .dataframe tbody tr th {\n",
       "        vertical-align: top;\n",
       "    }\n",
       "\n",
       "    .dataframe thead th {\n",
       "        text-align: right;\n",
       "    }\n",
       "</style>\n",
       "<table border=\"1\" class=\"dataframe\">\n",
       "  <thead>\n",
       "    <tr style=\"text-align: right;\">\n",
       "      <th></th>\n",
       "      <th>Header</th>\n",
       "    </tr>\n",
       "  </thead>\n",
       "  <tbody>\n",
       "    <tr>\n",
       "      <th>0</th>\n",
       "      <td>Welcome to Wikipedia</td>\n",
       "    </tr>\n",
       "    <tr>\n",
       "      <th>1</th>\n",
       "      <td>From today's featured article</td>\n",
       "    </tr>\n",
       "    <tr>\n",
       "      <th>2</th>\n",
       "      <td>Did you know ...</td>\n",
       "    </tr>\n",
       "    <tr>\n",
       "      <th>3</th>\n",
       "      <td>In the news</td>\n",
       "    </tr>\n",
       "    <tr>\n",
       "      <th>4</th>\n",
       "      <td>On this day</td>\n",
       "    </tr>\n",
       "    <tr>\n",
       "      <th>5</th>\n",
       "      <td>Today's featured picture</td>\n",
       "    </tr>\n",
       "    <tr>\n",
       "      <th>6</th>\n",
       "      <td>Other areas of Wikipedia</td>\n",
       "    </tr>\n",
       "    <tr>\n",
       "      <th>7</th>\n",
       "      <td>Wikipedia's sister projects</td>\n",
       "    </tr>\n",
       "    <tr>\n",
       "      <th>8</th>\n",
       "      <td>Wikipedia languages</td>\n",
       "    </tr>\n",
       "  </tbody>\n",
       "</table>\n",
       "</div>"
      ],
      "text/plain": [
       "                          Header\n",
       "0           Welcome to Wikipedia\n",
       "1  From today's featured article\n",
       "2               Did you know ...\n",
       "3                    In the news\n",
       "4                    On this day\n",
       "5       Today's featured picture\n",
       "6       Other areas of Wikipedia\n",
       "7    Wikipedia's sister projects\n",
       "8            Wikipedia languages"
      ]
     },
     "execution_count": 35,
     "metadata": {},
     "output_type": "execute_result"
    }
   ],
   "source": [
    "import pandas as pd\n",
    "\n",
    "nf = pd.DataFrame({'Header':header})\n",
    "nf"
   ]
  },
  {
   "cell_type": "markdown",
   "id": "f82a7012",
   "metadata": {},
   "source": [
    " \n",
    "### 2)\tWrite s python program to display list of respected former presidents of India(i.e. Name , Term ofoffice) from https://presidentofindia.nic.in/former-presidents.htm and make data frame. \n"
   ]
  },
  {
   "cell_type": "markdown",
   "id": "4c6d4b80",
   "metadata": {},
   "source": [
    "### 3)\tWrite a python program to scrape cricket rankings from icc-cricket.com. You have to scrape and make data frame- \n",
    " #### a)\tTop 10 ODI teams in men’s cricket along with the records for matches, points and rating. \n",
    "#### b)\tTop 10 ODI Batsmen along with the records of their team andrating. \n",
    "#### c)\tTop 10 ODI bowlers along with the records of their team andrating. \n"
   ]
  },
  {
   "cell_type": "markdown",
   "id": "c4264c81",
   "metadata": {},
   "source": [
    "### ANS A---"
   ]
  },
  {
   "cell_type": "code",
   "execution_count": 58,
   "id": "22d00672",
   "metadata": {},
   "outputs": [],
   "source": [
    "page = requests.get('https://www.icc-cricket.com/rankings/mens/team-rankings/odi')"
   ]
  },
  {
   "cell_type": "code",
   "execution_count": 59,
   "id": "005a4485",
   "metadata": {},
   "outputs": [],
   "source": [
    "soup = BeautifulSoup(page.content)\n"
   ]
  },
  {
   "cell_type": "code",
   "execution_count": 60,
   "id": "216c9e80",
   "metadata": {},
   "outputs": [
    {
     "data": {
      "text/plain": [
       "['Australia',\n",
       " 'Pakistan',\n",
       " 'India',\n",
       " 'New Zealand',\n",
       " 'England',\n",
       " 'South Africa',\n",
       " 'Bangladesh',\n",
       " 'Afghanistan',\n",
       " 'Sri Lanka',\n",
       " 'West Indies']"
      ]
     },
     "execution_count": 60,
     "metadata": {},
     "output_type": "execute_result"
    }
   ],
   "source": [
    "team = []\n",
    "for i in soup.find_all('span',class_=\"u-hide-phablet\"):\n",
    "    team.append(i.text)\n",
    "team[:10]"
   ]
  },
  {
   "cell_type": "code",
   "execution_count": 61,
   "id": "1b3ada84",
   "metadata": {},
   "outputs": [],
   "source": [
    "data = []\n",
    "for i in soup.find_all('td',class_=\"table-body__cell u-center-text\"):\n",
    "    data.append(i.text)\n"
   ]
  },
  {
   "cell_type": "code",
   "execution_count": 62,
   "id": "7083bd51",
   "metadata": {},
   "outputs": [
    {
     "data": {
      "text/plain": [
       "['23',\n",
       " '2,714',\n",
       " '20',\n",
       " '2,316',\n",
       " '36',\n",
       " '4,081',\n",
       " '27',\n",
       " '2,806',\n",
       " '24',\n",
       " '2,426',\n",
       " '19',\n",
       " '1,910',\n",
       " '28',\n",
       " '2,661',\n",
       " '16',\n",
       " '1,404',\n",
       " '32',\n",
       " '2,794',\n",
       " '38',\n",
       " '2,582']"
      ]
     },
     "execution_count": 62,
     "metadata": {},
     "output_type": "execute_result"
    }
   ],
   "source": [
    "text=soup.find('td',class_=\"rankings-block__banner--matches\")\n",
    "text.text\n",
    "text_1 =soup.find('td',class_=\"rankings-block__banner--points\")\n",
    "data.insert(0,text.text)\n",
    "data.insert(1,text_1.text)\n",
    "data[:20]"
   ]
  },
  {
   "cell_type": "code",
   "execution_count": 63,
   "id": "fabffb97",
   "metadata": {},
   "outputs": [
    {
     "data": {
      "text/plain": [
       "['23', '20', '36', '27', '24', '19', '28', '16', '32', '38']"
      ]
     },
     "execution_count": 63,
     "metadata": {},
     "output_type": "execute_result"
    }
   ],
   "source": [
    "matches = data[0::2]\n",
    "matches[:10]\n"
   ]
  },
  {
   "cell_type": "code",
   "execution_count": 64,
   "id": "72d6d9be",
   "metadata": {},
   "outputs": [
    {
     "data": {
      "text/plain": [
       "['2,714',\n",
       " '2,316',\n",
       " '4,081',\n",
       " '2,806',\n",
       " '2,426',\n",
       " '1,910',\n",
       " '2,661',\n",
       " '1,404',\n",
       " '2,794',\n",
       " '2,582']"
      ]
     },
     "execution_count": 64,
     "metadata": {},
     "output_type": "execute_result"
    }
   ],
   "source": [
    "points = data[1::2]\n",
    "points[:10]\n"
   ]
  },
  {
   "cell_type": "code",
   "execution_count": 65,
   "id": "65489347",
   "metadata": {},
   "outputs": [],
   "source": [
    "ratings= []\n",
    "for i in soup.find_all('td',class_=\"table-body__cell u-text-right rating\"):\n",
    "    ratings.append(i.text)\n",
    "ratings[:10]\n",
    "new_text =soup.find('td', class_=\"rankings-block__banner--rating u-text-right\")\n",
    "new_text.text.strip()\n",
    "ratings.insert(0,new_text.text.strip())\n",
    "\n"
   ]
  },
  {
   "cell_type": "code",
   "execution_count": 75,
   "id": "9077c05c",
   "metadata": {},
   "outputs": [
    {
     "name": "stdout",
     "output_type": "stream",
     "text": [
      "******************************************************************************************\n",
      "Top 10 ODI teams in men’s cricket along with the records for matches, points and rating.\n",
      "******************************************************************************************\n"
     ]
    },
    {
     "data": {
      "text/html": [
       "<div>\n",
       "<style scoped>\n",
       "    .dataframe tbody tr th:only-of-type {\n",
       "        vertical-align: middle;\n",
       "    }\n",
       "\n",
       "    .dataframe tbody tr th {\n",
       "        vertical-align: top;\n",
       "    }\n",
       "\n",
       "    .dataframe thead th {\n",
       "        text-align: right;\n",
       "    }\n",
       "</style>\n",
       "<table border=\"1\" class=\"dataframe\">\n",
       "  <thead>\n",
       "    <tr style=\"text-align: right;\">\n",
       "      <th></th>\n",
       "      <th>Team</th>\n",
       "      <th>Matches</th>\n",
       "      <th>Points</th>\n",
       "      <th>Ratings</th>\n",
       "    </tr>\n",
       "  </thead>\n",
       "  <tbody>\n",
       "    <tr>\n",
       "      <th>0</th>\n",
       "      <td>Australia</td>\n",
       "      <td>23</td>\n",
       "      <td>2,714</td>\n",
       "      <td>118</td>\n",
       "    </tr>\n",
       "    <tr>\n",
       "      <th>1</th>\n",
       "      <td>Pakistan</td>\n",
       "      <td>20</td>\n",
       "      <td>2,316</td>\n",
       "      <td>116</td>\n",
       "    </tr>\n",
       "    <tr>\n",
       "      <th>2</th>\n",
       "      <td>India</td>\n",
       "      <td>36</td>\n",
       "      <td>4,081</td>\n",
       "      <td>113</td>\n",
       "    </tr>\n",
       "    <tr>\n",
       "      <th>3</th>\n",
       "      <td>New Zealand</td>\n",
       "      <td>27</td>\n",
       "      <td>2,806</td>\n",
       "      <td>104</td>\n",
       "    </tr>\n",
       "    <tr>\n",
       "      <th>4</th>\n",
       "      <td>England</td>\n",
       "      <td>24</td>\n",
       "      <td>2,426</td>\n",
       "      <td>101</td>\n",
       "    </tr>\n",
       "    <tr>\n",
       "      <th>5</th>\n",
       "      <td>South Africa</td>\n",
       "      <td>19</td>\n",
       "      <td>1,910</td>\n",
       "      <td>101</td>\n",
       "    </tr>\n",
       "    <tr>\n",
       "      <th>6</th>\n",
       "      <td>Bangladesh</td>\n",
       "      <td>28</td>\n",
       "      <td>2,661</td>\n",
       "      <td>95</td>\n",
       "    </tr>\n",
       "    <tr>\n",
       "      <th>7</th>\n",
       "      <td>Afghanistan</td>\n",
       "      <td>16</td>\n",
       "      <td>1,404</td>\n",
       "      <td>88</td>\n",
       "    </tr>\n",
       "    <tr>\n",
       "      <th>8</th>\n",
       "      <td>Sri Lanka</td>\n",
       "      <td>32</td>\n",
       "      <td>2,794</td>\n",
       "      <td>87</td>\n",
       "    </tr>\n",
       "    <tr>\n",
       "      <th>9</th>\n",
       "      <td>West Indies</td>\n",
       "      <td>38</td>\n",
       "      <td>2,582</td>\n",
       "      <td>68</td>\n",
       "    </tr>\n",
       "  </tbody>\n",
       "</table>\n",
       "</div>"
      ],
      "text/plain": [
       "           Team Matches Points Ratings\n",
       "0     Australia      23  2,714     118\n",
       "1      Pakistan      20  2,316     116\n",
       "2         India      36  4,081     113\n",
       "3   New Zealand      27  2,806     104\n",
       "4       England      24  2,426     101\n",
       "5  South Africa      19  1,910     101\n",
       "6    Bangladesh      28  2,661      95\n",
       "7   Afghanistan      16  1,404      88\n",
       "8     Sri Lanka      32  2,794      87\n",
       "9   West Indies      38  2,582      68"
      ]
     },
     "execution_count": 75,
     "metadata": {},
     "output_type": "execute_result"
    }
   ],
   "source": [
    "import pandas as pd\n",
    "\n",
    "nf = pd.DataFrame({'Team':team[:10],'Matches':matches[:10],'Points':points[:10],'Ratings':ratings[:10]})\n",
    "print(\"*\" * 90 + (\"\\nTop 10 ODI teams in men’s cricket along with the records for matches, points and rating.\\n\") + \"*\" * 90)\n",
    "nf"
   ]
  },
  {
   "cell_type": "markdown",
   "id": "d531c188",
   "metadata": {},
   "source": [
    "### ANS B ---  b) Top 10 ODI Batsmen along with the records of their team andrating"
   ]
  },
  {
   "cell_type": "code",
   "execution_count": 77,
   "id": "82c44008",
   "metadata": {},
   "outputs": [],
   "source": [
    "page = requests.get('https://www.icc-cricket.com/rankings/mens/player-rankings/odi/batting')"
   ]
  },
  {
   "cell_type": "code",
   "execution_count": 78,
   "id": "b1dd4cee",
   "metadata": {},
   "outputs": [],
   "source": [
    "soup = BeautifulSoup(page.content)"
   ]
  },
  {
   "cell_type": "code",
   "execution_count": 79,
   "id": "807a523b",
   "metadata": {},
   "outputs": [
    {
     "data": {
      "text/plain": [
       "['Babar Azam',\n",
       " 'Rassie van der Dussen',\n",
       " 'Fakhar Zaman',\n",
       " 'Imam-ul-Haq',\n",
       " 'Shubman Gill',\n",
       " 'Harry Tector',\n",
       " 'David Warner',\n",
       " 'Quinton de Kock',\n",
       " 'Virat Kohli',\n",
       " 'Steve Smith']"
      ]
     },
     "execution_count": 79,
     "metadata": {},
     "output_type": "execute_result"
    }
   ],
   "source": [
    "names = []\n",
    "for i in soup.find_all('td',class_=\"table-body__cell rankings-table__name name\"):\n",
    "    names.append(i.text.strip())\n",
    "text=soup.find('div',class_=\"rankings-block__banner--name-large\")\n",
    "names.insert(0,text.text)\n",
    "names[0:10]"
   ]
  },
  {
   "cell_type": "code",
   "execution_count": 80,
   "id": "c76c9a5f",
   "metadata": {},
   "outputs": [
    {
     "data": {
      "text/plain": [
       "['PAK', 'SA', 'PAK', 'PAK', 'IND', 'IRE', 'AUS', 'SA', 'IND', 'AUS']"
      ]
     },
     "execution_count": 80,
     "metadata": {},
     "output_type": "execute_result"
    }
   ],
   "source": [
    "team =[]\n",
    "for i in soup.find_all('span', class_=\"table-body__logo-text\"):\n",
    "    team.append(i.text)\n",
    "text_1=soup.find('div',class_=\"rankings-block__banner--nationality\")\n",
    "team.insert(0,text_1.text.strip().split()[0])\n",
    "team[:10]"
   ]
  },
  {
   "cell_type": "code",
   "execution_count": 81,
   "id": "764db955",
   "metadata": {},
   "outputs": [
    {
     "data": {
      "text/plain": [
       "['886', '777', '755', '745', '743', '726', '726', '718', '705', '702']"
      ]
     },
     "execution_count": 81,
     "metadata": {},
     "output_type": "execute_result"
    }
   ],
   "source": [
    "rating =[]\n",
    "for i in soup.find_all('td', class_=\"table-body__cell rating\"):\n",
    "    rating.append(i.text)\n",
    "txt_1=soup.find('div', class_=\"rankings-block__banner--rating\")\n",
    "rating.insert(0,txt_1.text)\n",
    "rating[:10]"
   ]
  },
  {
   "cell_type": "code",
   "execution_count": 82,
   "id": "67cf3c96",
   "metadata": {},
   "outputs": [
    {
     "name": "stdout",
     "output_type": "stream",
     "text": [
      "******************************************************************************************\n",
      " Top 10 ODI Batsmen along with the records of their team andrating\n",
      "******************************************************************************************\n"
     ]
    },
    {
     "data": {
      "text/html": [
       "<div>\n",
       "<style scoped>\n",
       "    .dataframe tbody tr th:only-of-type {\n",
       "        vertical-align: middle;\n",
       "    }\n",
       "\n",
       "    .dataframe tbody tr th {\n",
       "        vertical-align: top;\n",
       "    }\n",
       "\n",
       "    .dataframe thead th {\n",
       "        text-align: right;\n",
       "    }\n",
       "</style>\n",
       "<table border=\"1\" class=\"dataframe\">\n",
       "  <thead>\n",
       "    <tr style=\"text-align: right;\">\n",
       "      <th></th>\n",
       "      <th>Name</th>\n",
       "      <th>Team</th>\n",
       "      <th>Ratings</th>\n",
       "    </tr>\n",
       "  </thead>\n",
       "  <tbody>\n",
       "    <tr>\n",
       "      <th>0</th>\n",
       "      <td>Babar Azam</td>\n",
       "      <td>PAK</td>\n",
       "      <td>886</td>\n",
       "    </tr>\n",
       "    <tr>\n",
       "      <th>1</th>\n",
       "      <td>Rassie van der Dussen</td>\n",
       "      <td>SA</td>\n",
       "      <td>777</td>\n",
       "    </tr>\n",
       "    <tr>\n",
       "      <th>2</th>\n",
       "      <td>Fakhar Zaman</td>\n",
       "      <td>PAK</td>\n",
       "      <td>755</td>\n",
       "    </tr>\n",
       "    <tr>\n",
       "      <th>3</th>\n",
       "      <td>Imam-ul-Haq</td>\n",
       "      <td>PAK</td>\n",
       "      <td>745</td>\n",
       "    </tr>\n",
       "    <tr>\n",
       "      <th>4</th>\n",
       "      <td>Shubman Gill</td>\n",
       "      <td>IND</td>\n",
       "      <td>743</td>\n",
       "    </tr>\n",
       "    <tr>\n",
       "      <th>5</th>\n",
       "      <td>Harry Tector</td>\n",
       "      <td>IRE</td>\n",
       "      <td>726</td>\n",
       "    </tr>\n",
       "    <tr>\n",
       "      <th>6</th>\n",
       "      <td>David Warner</td>\n",
       "      <td>AUS</td>\n",
       "      <td>726</td>\n",
       "    </tr>\n",
       "    <tr>\n",
       "      <th>7</th>\n",
       "      <td>Quinton de Kock</td>\n",
       "      <td>SA</td>\n",
       "      <td>718</td>\n",
       "    </tr>\n",
       "    <tr>\n",
       "      <th>8</th>\n",
       "      <td>Virat Kohli</td>\n",
       "      <td>IND</td>\n",
       "      <td>705</td>\n",
       "    </tr>\n",
       "    <tr>\n",
       "      <th>9</th>\n",
       "      <td>Steve Smith</td>\n",
       "      <td>AUS</td>\n",
       "      <td>702</td>\n",
       "    </tr>\n",
       "  </tbody>\n",
       "</table>\n",
       "</div>"
      ],
      "text/plain": [
       "                    Name Team Ratings\n",
       "0             Babar Azam  PAK     886\n",
       "1  Rassie van der Dussen   SA     777\n",
       "2           Fakhar Zaman  PAK     755\n",
       "3            Imam-ul-Haq  PAK     745\n",
       "4           Shubman Gill  IND     743\n",
       "5           Harry Tector  IRE     726\n",
       "6           David Warner  AUS     726\n",
       "7        Quinton de Kock   SA     718\n",
       "8            Virat Kohli  IND     705\n",
       "9            Steve Smith  AUS     702"
      ]
     },
     "execution_count": 82,
     "metadata": {},
     "output_type": "execute_result"
    }
   ],
   "source": [
    "import pandas as pd\n",
    "\n",
    "nf = pd.DataFrame({'Name':names[:10], 'Team':team[:10],'Ratings':rating[:10]})\n",
    "print(\"*\" * 90 + \"\\n Top 10 ODI Batsmen along with the records of their team andrating\\n\" + \"*\" * 90)\n",
    "nf"
   ]
  },
  {
   "cell_type": "markdown",
   "id": "fbe70ea1",
   "metadata": {},
   "source": [
    "### ANS C --- c)\tTop 10 ODI bowlers along with the records of their team andrating."
   ]
  },
  {
   "cell_type": "code",
   "execution_count": 49,
   "id": "02f21b33",
   "metadata": {},
   "outputs": [],
   "source": [
    "page = requests.get('https://www.icc-cricket.com/rankings/mens/player-rankings/odi/bowling')"
   ]
  },
  {
   "cell_type": "code",
   "execution_count": 50,
   "id": "4e6fdda9",
   "metadata": {},
   "outputs": [],
   "source": [
    "soup = BeautifulSoup(page.content)"
   ]
  },
  {
   "cell_type": "code",
   "execution_count": 51,
   "id": "e0fc7cc5",
   "metadata": {},
   "outputs": [
    {
     "data": {
      "text/plain": [
       "['Josh Hazlewood',\n",
       " 'Mitchell Starc',\n",
       " 'Rashid Khan',\n",
       " 'Mohammed Siraj',\n",
       " 'Matt Henry',\n",
       " 'Mujeeb Ur Rahman',\n",
       " 'Trent Boult',\n",
       " 'Adam Zampa',\n",
       " 'Shaheen Afridi',\n",
       " 'Kuldeep Yadav']"
      ]
     },
     "execution_count": 51,
     "metadata": {},
     "output_type": "execute_result"
    }
   ],
   "source": [
    "names = []\n",
    "for i in soup.find_all('td',class_=\"table-body__cell rankings-table__name name\"):\n",
    "     names.append(i.text.strip())\n",
    "txt=soup.find('div',class_=\"rankings-block__banner--name-large\")\n",
    "names.insert(0,txt.text)\n",
    "\n",
    "names[0:10]"
   ]
  },
  {
   "cell_type": "code",
   "execution_count": 52,
   "id": "796f0c2a",
   "metadata": {},
   "outputs": [
    {
     "data": {
      "text/plain": [
       "['AUS', 'AUS', 'AFG', 'IND', 'NZ', 'AFG', 'NZ', 'AUS', 'PAK', 'IND']"
      ]
     },
     "execution_count": 52,
     "metadata": {},
     "output_type": "execute_result"
    }
   ],
   "source": [
    "team =[]\n",
    "for i in soup.find_all('span', class_=\"table-body__logo-text\"):\n",
    "    team.append(i.text)\n",
    "text_1=soup.find('div',class_=\"rankings-block__banner--nationality\")\n",
    "team.insert(0,text_1.text.strip().split()[0])\n",
    "team[:10]"
   ]
  },
  {
   "cell_type": "code",
   "execution_count": 53,
   "id": "4d3c4d9d",
   "metadata": {},
   "outputs": [
    {
     "data": {
      "text/plain": [
       "['705', '686', '682', '670', '667', '661', '660', '652', '630', '622']"
      ]
     },
     "execution_count": 53,
     "metadata": {},
     "output_type": "execute_result"
    }
   ],
   "source": [
    "rating =[]\n",
    "for i in soup.find_all('td', class_=\"table-body__cell rating\"):\n",
    "    rating.append(i.text)\n",
    "txt_1=soup.find('div', class_=\"rankings-block__banner--rating\")\n",
    "rating.insert(0,txt_1.text)\n",
    "rating[:10]\n"
   ]
  },
  {
   "cell_type": "code",
   "execution_count": 57,
   "id": "454468ea",
   "metadata": {},
   "outputs": [
    {
     "name": "stdout",
     "output_type": "stream",
     "text": [
      "******************************************************************************************\n",
      "Top 10 ODI bowlers along with the records of their team and rating.\n",
      "******************************************************************************************\n"
     ]
    },
    {
     "data": {
      "text/html": [
       "<div>\n",
       "<style scoped>\n",
       "    .dataframe tbody tr th:only-of-type {\n",
       "        vertical-align: middle;\n",
       "    }\n",
       "\n",
       "    .dataframe tbody tr th {\n",
       "        vertical-align: top;\n",
       "    }\n",
       "\n",
       "    .dataframe thead th {\n",
       "        text-align: right;\n",
       "    }\n",
       "</style>\n",
       "<table border=\"1\" class=\"dataframe\">\n",
       "  <thead>\n",
       "    <tr style=\"text-align: right;\">\n",
       "      <th></th>\n",
       "      <th>Name</th>\n",
       "      <th>Team</th>\n",
       "      <th>Ratings</th>\n",
       "    </tr>\n",
       "  </thead>\n",
       "  <tbody>\n",
       "    <tr>\n",
       "      <th>0</th>\n",
       "      <td>Josh Hazlewood</td>\n",
       "      <td>AUS</td>\n",
       "      <td>705</td>\n",
       "    </tr>\n",
       "    <tr>\n",
       "      <th>1</th>\n",
       "      <td>Mitchell Starc</td>\n",
       "      <td>AUS</td>\n",
       "      <td>686</td>\n",
       "    </tr>\n",
       "    <tr>\n",
       "      <th>2</th>\n",
       "      <td>Rashid Khan</td>\n",
       "      <td>AFG</td>\n",
       "      <td>682</td>\n",
       "    </tr>\n",
       "    <tr>\n",
       "      <th>3</th>\n",
       "      <td>Mohammed Siraj</td>\n",
       "      <td>IND</td>\n",
       "      <td>670</td>\n",
       "    </tr>\n",
       "    <tr>\n",
       "      <th>4</th>\n",
       "      <td>Matt Henry</td>\n",
       "      <td>NZ</td>\n",
       "      <td>667</td>\n",
       "    </tr>\n",
       "    <tr>\n",
       "      <th>5</th>\n",
       "      <td>Mujeeb Ur Rahman</td>\n",
       "      <td>AFG</td>\n",
       "      <td>661</td>\n",
       "    </tr>\n",
       "    <tr>\n",
       "      <th>6</th>\n",
       "      <td>Trent Boult</td>\n",
       "      <td>NZ</td>\n",
       "      <td>660</td>\n",
       "    </tr>\n",
       "    <tr>\n",
       "      <th>7</th>\n",
       "      <td>Adam Zampa</td>\n",
       "      <td>AUS</td>\n",
       "      <td>652</td>\n",
       "    </tr>\n",
       "    <tr>\n",
       "      <th>8</th>\n",
       "      <td>Shaheen Afridi</td>\n",
       "      <td>PAK</td>\n",
       "      <td>630</td>\n",
       "    </tr>\n",
       "    <tr>\n",
       "      <th>9</th>\n",
       "      <td>Kuldeep Yadav</td>\n",
       "      <td>IND</td>\n",
       "      <td>622</td>\n",
       "    </tr>\n",
       "  </tbody>\n",
       "</table>\n",
       "</div>"
      ],
      "text/plain": [
       "               Name Team Ratings\n",
       "0    Josh Hazlewood  AUS     705\n",
       "1    Mitchell Starc  AUS     686\n",
       "2       Rashid Khan  AFG     682\n",
       "3    Mohammed Siraj  IND     670\n",
       "4        Matt Henry   NZ     667\n",
       "5  Mujeeb Ur Rahman  AFG     661\n",
       "6       Trent Boult   NZ     660\n",
       "7        Adam Zampa  AUS     652\n",
       "8    Shaheen Afridi  PAK     630\n",
       "9     Kuldeep Yadav  IND     622"
      ]
     },
     "execution_count": 57,
     "metadata": {},
     "output_type": "execute_result"
    }
   ],
   "source": [
    "import pandas as pd\n",
    "\n",
    "nf = pd.DataFrame({'Name':names[:10], 'Team':team[:10],'Ratings':rating[:10]})\n",
    "print(\"*\" * 90 + \"\\nTop 10 ODI bowlers along with the records of their team and rating.\\n\" + \"*\" * 90)\n",
    "nf"
   ]
  },
  {
   "cell_type": "markdown",
   "id": "344aad64",
   "metadata": {},
   "source": [
    "\n",
    "### 4)\tWrite a python program to scrape cricket rankings from icc-cricket.com. You have to scrape and make data frame- \n",
    " #### a)\tTop 10 ODI teams in women’s cricket along with the records for matches, points and rating. \n",
    "#### b)\tTop 10 women’s ODI Batting players along with the records of their team and rating. \n",
    "#### c)\tTop 10 women’s ODI all-rounder along with the records of their team and rating. \n",
    " \n"
   ]
  },
  {
   "cell_type": "markdown",
   "id": "5e56f9bc",
   "metadata": {},
   "source": [
    "### a) Top 10 ODI teams in women’s cricket along with the records for matches, points and rating"
   ]
  },
  {
   "cell_type": "code",
   "execution_count": 83,
   "id": "ccf4dc87",
   "metadata": {},
   "outputs": [],
   "source": [
    "page = requests.get('https://www.icc-cricket.com/rankings/womens/team-rankings/odi')"
   ]
  },
  {
   "cell_type": "code",
   "execution_count": 84,
   "id": "a2211bc4",
   "metadata": {},
   "outputs": [],
   "source": [
    "soup = BeautifulSoup(page.content)"
   ]
  },
  {
   "cell_type": "code",
   "execution_count": 85,
   "id": "993a0179",
   "metadata": {},
   "outputs": [
    {
     "data": {
      "text/plain": [
       "['Australia',\n",
       " 'England',\n",
       " 'South Africa',\n",
       " 'India',\n",
       " 'New Zealand',\n",
       " 'West Indies',\n",
       " 'Bangladesh',\n",
       " 'Sri Lanka',\n",
       " 'Thailand',\n",
       " 'Pakistan']"
      ]
     },
     "execution_count": 85,
     "metadata": {},
     "output_type": "execute_result"
    }
   ],
   "source": [
    "team = []\n",
    "for i in soup.find_all('span',class_=\"u-hide-phablet\"):\n",
    "    team.append(i.text)\n",
    "team[:10]"
   ]
  },
  {
   "cell_type": "code",
   "execution_count": 86,
   "id": "b633d950",
   "metadata": {},
   "outputs": [],
   "source": [
    "data = []\n",
    "for i in soup.find_all('td',class_=\"table-body__cell u-center-text\"):\n",
    "    data.append(i.text)\n"
   ]
  },
  {
   "cell_type": "code",
   "execution_count": 87,
   "id": "6cfa287c",
   "metadata": {},
   "outputs": [],
   "source": [
    "text=soup.find('td',class_=\"rankings-block__banner--matches\")\n",
    "text_1 =soup.find('td',class_=\"rankings-block__banner--points\")\n"
   ]
  },
  {
   "cell_type": "code",
   "execution_count": 88,
   "id": "d72c18a6",
   "metadata": {},
   "outputs": [
    {
     "data": {
      "text/plain": [
       "['26',\n",
       " '4,290',\n",
       " '31',\n",
       " '3,875',\n",
       " '26',\n",
       " '3,098',\n",
       " '30',\n",
       " '3,039',\n",
       " '28',\n",
       " '2,688',\n",
       " '29',\n",
       " '2,743',\n",
       " '17',\n",
       " '1,284',\n",
       " '12',\n",
       " '820',\n",
       " '13',\n",
       " '883',\n",
       " '27',\n",
       " '1,678']"
      ]
     },
     "execution_count": 88,
     "metadata": {},
     "output_type": "execute_result"
    }
   ],
   "source": [
    "data.insert(0,text.text)\n",
    "data.insert(1,text_1.text)\n",
    "data[:20]"
   ]
  },
  {
   "cell_type": "code",
   "execution_count": 89,
   "id": "b4958bf5",
   "metadata": {},
   "outputs": [
    {
     "data": {
      "text/plain": [
       "['26', '31', '26', '30', '28', '29', '17', '12', '13', '27']"
      ]
     },
     "execution_count": 89,
     "metadata": {},
     "output_type": "execute_result"
    }
   ],
   "source": [
    "matches = data[0::2]\n",
    "matches[:10]"
   ]
  },
  {
   "cell_type": "code",
   "execution_count": 90,
   "id": "72083a93",
   "metadata": {},
   "outputs": [
    {
     "data": {
      "text/plain": [
       "['4,290',\n",
       " '3,875',\n",
       " '3,098',\n",
       " '3,039',\n",
       " '2,688',\n",
       " '2,743',\n",
       " '1,284',\n",
       " '820',\n",
       " '883',\n",
       " '1,678']"
      ]
     },
     "execution_count": 90,
     "metadata": {},
     "output_type": "execute_result"
    }
   ],
   "source": [
    "points = data[1::2]\n",
    "points[:10]"
   ]
  },
  {
   "cell_type": "code",
   "execution_count": 91,
   "id": "3c3676e5",
   "metadata": {},
   "outputs": [
    {
     "data": {
      "text/plain": [
       "['165', '125', '119', '101', '96', '95', '76', '68', '68', '62']"
      ]
     },
     "execution_count": 91,
     "metadata": {},
     "output_type": "execute_result"
    }
   ],
   "source": [
    "ratings= []\n",
    "for i in soup.find_all('td',class_=\"table-body__cell u-text-right rating\"):\n",
    "    ratings.append(i.text)\n",
    "ratings[:10]\n",
    "new_text =soup.find('td', class_=\"rankings-block__banner--rating u-text-right\")\n",
    "new_text.text.strip()\n",
    "ratings.insert(0,new_text.text.strip())\n",
    "ratings[:10]"
   ]
  },
  {
   "cell_type": "code",
   "execution_count": 92,
   "id": "11206030",
   "metadata": {},
   "outputs": [
    {
     "name": "stdout",
     "output_type": "stream",
     "text": [
      "******************************************************************************************\n",
      "Top 10 ODI teams in women’s cricket along with the records for matches, points and rating\n",
      "******************************************************************************************\n"
     ]
    },
    {
     "data": {
      "text/html": [
       "<div>\n",
       "<style scoped>\n",
       "    .dataframe tbody tr th:only-of-type {\n",
       "        vertical-align: middle;\n",
       "    }\n",
       "\n",
       "    .dataframe tbody tr th {\n",
       "        vertical-align: top;\n",
       "    }\n",
       "\n",
       "    .dataframe thead th {\n",
       "        text-align: right;\n",
       "    }\n",
       "</style>\n",
       "<table border=\"1\" class=\"dataframe\">\n",
       "  <thead>\n",
       "    <tr style=\"text-align: right;\">\n",
       "      <th></th>\n",
       "      <th>Team</th>\n",
       "      <th>Matches</th>\n",
       "      <th>Points</th>\n",
       "      <th>Ratings</th>\n",
       "    </tr>\n",
       "  </thead>\n",
       "  <tbody>\n",
       "    <tr>\n",
       "      <th>0</th>\n",
       "      <td>Australia</td>\n",
       "      <td>26</td>\n",
       "      <td>4,290</td>\n",
       "      <td>165</td>\n",
       "    </tr>\n",
       "    <tr>\n",
       "      <th>1</th>\n",
       "      <td>England</td>\n",
       "      <td>31</td>\n",
       "      <td>3,875</td>\n",
       "      <td>125</td>\n",
       "    </tr>\n",
       "    <tr>\n",
       "      <th>2</th>\n",
       "      <td>South Africa</td>\n",
       "      <td>26</td>\n",
       "      <td>3,098</td>\n",
       "      <td>119</td>\n",
       "    </tr>\n",
       "    <tr>\n",
       "      <th>3</th>\n",
       "      <td>India</td>\n",
       "      <td>30</td>\n",
       "      <td>3,039</td>\n",
       "      <td>101</td>\n",
       "    </tr>\n",
       "    <tr>\n",
       "      <th>4</th>\n",
       "      <td>New Zealand</td>\n",
       "      <td>28</td>\n",
       "      <td>2,688</td>\n",
       "      <td>96</td>\n",
       "    </tr>\n",
       "    <tr>\n",
       "      <th>5</th>\n",
       "      <td>West Indies</td>\n",
       "      <td>29</td>\n",
       "      <td>2,743</td>\n",
       "      <td>95</td>\n",
       "    </tr>\n",
       "    <tr>\n",
       "      <th>6</th>\n",
       "      <td>Bangladesh</td>\n",
       "      <td>17</td>\n",
       "      <td>1,284</td>\n",
       "      <td>76</td>\n",
       "    </tr>\n",
       "    <tr>\n",
       "      <th>7</th>\n",
       "      <td>Sri Lanka</td>\n",
       "      <td>12</td>\n",
       "      <td>820</td>\n",
       "      <td>68</td>\n",
       "    </tr>\n",
       "    <tr>\n",
       "      <th>8</th>\n",
       "      <td>Thailand</td>\n",
       "      <td>13</td>\n",
       "      <td>883</td>\n",
       "      <td>68</td>\n",
       "    </tr>\n",
       "    <tr>\n",
       "      <th>9</th>\n",
       "      <td>Pakistan</td>\n",
       "      <td>27</td>\n",
       "      <td>1,678</td>\n",
       "      <td>62</td>\n",
       "    </tr>\n",
       "  </tbody>\n",
       "</table>\n",
       "</div>"
      ],
      "text/plain": [
       "           Team Matches Points Ratings\n",
       "0     Australia      26  4,290     165\n",
       "1       England      31  3,875     125\n",
       "2  South Africa      26  3,098     119\n",
       "3         India      30  3,039     101\n",
       "4   New Zealand      28  2,688      96\n",
       "5   West Indies      29  2,743      95\n",
       "6    Bangladesh      17  1,284      76\n",
       "7     Sri Lanka      12    820      68\n",
       "8      Thailand      13    883      68\n",
       "9      Pakistan      27  1,678      62"
      ]
     },
     "execution_count": 92,
     "metadata": {},
     "output_type": "execute_result"
    }
   ],
   "source": [
    "import pandas as pd\n",
    "\n",
    "nf = pd.DataFrame({'Team':team[:10],'Matches':matches[:10],'Points':points[:10],'Ratings':ratings[:10]})\n",
    "print(\"*\" * 90 + \"\\nTop 10 ODI teams in women’s cricket along with the records for matches, points and rating\\n\" + \"*\" * 90)\n",
    "nf"
   ]
  },
  {
   "cell_type": "markdown",
   "id": "f3a2ab2a",
   "metadata": {},
   "source": [
    "###   b) Top 10 women’s ODI Batting players along with the records of their team and rating"
   ]
  },
  {
   "cell_type": "code",
   "execution_count": 93,
   "id": "2894092a",
   "metadata": {},
   "outputs": [],
   "source": [
    "page = requests.get('https://www.icc-cricket.com/rankings/womens/player-rankings/odi/batting')"
   ]
  },
  {
   "cell_type": "code",
   "execution_count": 94,
   "id": "57b6fee2",
   "metadata": {},
   "outputs": [],
   "source": [
    "soup = BeautifulSoup(page.content)"
   ]
  },
  {
   "cell_type": "code",
   "execution_count": 95,
   "id": "af6ee491",
   "metadata": {},
   "outputs": [
    {
     "data": {
      "text/plain": [
       "['Natalie Sciver-Brunt',\n",
       " 'Chamari Athapaththu',\n",
       " 'Beth Mooney',\n",
       " 'Laura Wolvaardt',\n",
       " 'Smriti Mandhana',\n",
       " 'Alyssa Healy',\n",
       " 'Harmanpreet Kaur',\n",
       " 'Ellyse Perry',\n",
       " 'Meg Lanning',\n",
       " 'Stafanie Taylor']"
      ]
     },
     "execution_count": 95,
     "metadata": {},
     "output_type": "execute_result"
    }
   ],
   "source": [
    "names = []\n",
    "for i in soup.find_all('td',class_=\"table-body__cell rankings-table__name name\"):\n",
    "    names.append(i.text.strip())\n",
    "text=soup.find('div',class_=\"rankings-block__banner--name-large\")\n",
    "names.insert(0,text.text)\n",
    "names[0:10]"
   ]
  },
  {
   "cell_type": "code",
   "execution_count": 96,
   "id": "616c8714",
   "metadata": {},
   "outputs": [
    {
     "data": {
      "text/plain": [
       "['ENG', 'SL', 'AUS', 'SA', 'IND', 'AUS', 'IND', 'AUS', 'AUS', 'WI']"
      ]
     },
     "execution_count": 96,
     "metadata": {},
     "output_type": "execute_result"
    }
   ],
   "source": [
    "team =[]\n",
    "for i in soup.find_all('span', class_=\"table-body__logo-text\"):\n",
    "    team.append(i.text)\n",
    "text_1=soup.find('div',class_=\"rankings-block__banner--nationality\")\n",
    "team.insert(0,text_1.text.strip().split()[0])\n",
    "team[:10]"
   ]
  },
  {
   "cell_type": "code",
   "execution_count": 97,
   "id": "e1b894ad",
   "metadata": {},
   "outputs": [
    {
     "data": {
      "text/plain": [
       "['803', '758', '751', '732', '708', '702', '694', '686', '682', '618']"
      ]
     },
     "execution_count": 97,
     "metadata": {},
     "output_type": "execute_result"
    }
   ],
   "source": [
    "rating =[]\n",
    "for i in soup.find_all('td', class_=\"table-body__cell rating\"):\n",
    "    rating.append(i.text)\n",
    "txt_1=soup.find('div', class_=\"rankings-block__banner--rating\")\n",
    "rating.insert(0,txt_1.text)\n",
    "rating[:10]"
   ]
  },
  {
   "cell_type": "code",
   "execution_count": 98,
   "id": "05f6447c",
   "metadata": {},
   "outputs": [
    {
     "name": "stdout",
     "output_type": "stream",
     "text": [
      "******************************************************************************************\n",
      "Top 10 women’s ODI Batting players along with the records of their team and rating\n",
      "******************************************************************************************\n"
     ]
    },
    {
     "data": {
      "text/html": [
       "<div>\n",
       "<style scoped>\n",
       "    .dataframe tbody tr th:only-of-type {\n",
       "        vertical-align: middle;\n",
       "    }\n",
       "\n",
       "    .dataframe tbody tr th {\n",
       "        vertical-align: top;\n",
       "    }\n",
       "\n",
       "    .dataframe thead th {\n",
       "        text-align: right;\n",
       "    }\n",
       "</style>\n",
       "<table border=\"1\" class=\"dataframe\">\n",
       "  <thead>\n",
       "    <tr style=\"text-align: right;\">\n",
       "      <th></th>\n",
       "      <th>Name</th>\n",
       "      <th>Team</th>\n",
       "      <th>Ratings</th>\n",
       "    </tr>\n",
       "  </thead>\n",
       "  <tbody>\n",
       "    <tr>\n",
       "      <th>0</th>\n",
       "      <td>Natalie Sciver-Brunt</td>\n",
       "      <td>ENG</td>\n",
       "      <td>803</td>\n",
       "    </tr>\n",
       "    <tr>\n",
       "      <th>1</th>\n",
       "      <td>Chamari Athapaththu</td>\n",
       "      <td>SL</td>\n",
       "      <td>758</td>\n",
       "    </tr>\n",
       "    <tr>\n",
       "      <th>2</th>\n",
       "      <td>Beth Mooney</td>\n",
       "      <td>AUS</td>\n",
       "      <td>751</td>\n",
       "    </tr>\n",
       "    <tr>\n",
       "      <th>3</th>\n",
       "      <td>Laura Wolvaardt</td>\n",
       "      <td>SA</td>\n",
       "      <td>732</td>\n",
       "    </tr>\n",
       "    <tr>\n",
       "      <th>4</th>\n",
       "      <td>Smriti Mandhana</td>\n",
       "      <td>IND</td>\n",
       "      <td>708</td>\n",
       "    </tr>\n",
       "    <tr>\n",
       "      <th>5</th>\n",
       "      <td>Alyssa Healy</td>\n",
       "      <td>AUS</td>\n",
       "      <td>702</td>\n",
       "    </tr>\n",
       "    <tr>\n",
       "      <th>6</th>\n",
       "      <td>Harmanpreet Kaur</td>\n",
       "      <td>IND</td>\n",
       "      <td>694</td>\n",
       "    </tr>\n",
       "    <tr>\n",
       "      <th>7</th>\n",
       "      <td>Ellyse Perry</td>\n",
       "      <td>AUS</td>\n",
       "      <td>686</td>\n",
       "    </tr>\n",
       "    <tr>\n",
       "      <th>8</th>\n",
       "      <td>Meg Lanning</td>\n",
       "      <td>AUS</td>\n",
       "      <td>682</td>\n",
       "    </tr>\n",
       "    <tr>\n",
       "      <th>9</th>\n",
       "      <td>Stafanie Taylor</td>\n",
       "      <td>WI</td>\n",
       "      <td>618</td>\n",
       "    </tr>\n",
       "  </tbody>\n",
       "</table>\n",
       "</div>"
      ],
      "text/plain": [
       "                   Name Team Ratings\n",
       "0  Natalie Sciver-Brunt  ENG     803\n",
       "1   Chamari Athapaththu   SL     758\n",
       "2           Beth Mooney  AUS     751\n",
       "3       Laura Wolvaardt   SA     732\n",
       "4       Smriti Mandhana  IND     708\n",
       "5          Alyssa Healy  AUS     702\n",
       "6      Harmanpreet Kaur  IND     694\n",
       "7          Ellyse Perry  AUS     686\n",
       "8           Meg Lanning  AUS     682\n",
       "9       Stafanie Taylor   WI     618"
      ]
     },
     "execution_count": 98,
     "metadata": {},
     "output_type": "execute_result"
    }
   ],
   "source": [
    "import pandas as pd\n",
    "nf = pd.DataFrame({'Name':names[:10], 'Team':team[:10],'Ratings':rating[:10]})\n",
    "print(\"*\" * 90 + \"\\nTop 10 women’s ODI Batting players along with the records of their team and rating\\n\" + \"*\" * 90)\n",
    "nf"
   ]
  },
  {
   "cell_type": "markdown",
   "id": "bb371fb5",
   "metadata": {},
   "source": [
    "### c) Top 10 women’s ODI all-rounder along with the records of their team and rating."
   ]
  },
  {
   "cell_type": "code",
   "execution_count": 99,
   "id": "6e72744c",
   "metadata": {},
   "outputs": [],
   "source": [
    "page = requests.get('https://www.icc-cricket.com/rankings/womens/player-rankings/odi/all-rounder')                   "
   ]
  },
  {
   "cell_type": "code",
   "execution_count": 100,
   "id": "94b8c274",
   "metadata": {},
   "outputs": [],
   "source": [
    "soup = BeautifulSoup(page.content)"
   ]
  },
  {
   "cell_type": "code",
   "execution_count": 101,
   "id": "d96066c4",
   "metadata": {},
   "outputs": [
    {
     "data": {
      "text/plain": [
       "['Natalie Sciver-Brunt',\n",
       " 'Ashleigh Gardner',\n",
       " 'Hayley Matthews',\n",
       " 'Marizanne Kapp',\n",
       " 'Ellyse Perry',\n",
       " 'Amelia Kerr',\n",
       " 'Deepti Sharma',\n",
       " 'Jess Jonassen',\n",
       " 'Sophie Devine',\n",
       " 'Nida Dar']"
      ]
     },
     "execution_count": 101,
     "metadata": {},
     "output_type": "execute_result"
    }
   ],
   "source": [
    "names = []\n",
    "for i in soup.find_all('td',class_=\"table-body__cell rankings-table__name name\"):\n",
    "    names.append(i.text.strip())\n",
    "text=soup.find('div',class_=\"rankings-block__banner--name-large\")\n",
    "names.insert(0,text.text)\n",
    "names[0:10]"
   ]
  },
  {
   "cell_type": "code",
   "execution_count": 102,
   "id": "3c7588cf",
   "metadata": {},
   "outputs": [
    {
     "data": {
      "text/plain": [
       "['ENG', 'AUS', 'WI', 'SA', 'AUS', 'NZ', 'IND', 'AUS', 'NZ', 'PAK']"
      ]
     },
     "execution_count": 102,
     "metadata": {},
     "output_type": "execute_result"
    }
   ],
   "source": [
    "team =[]\n",
    "for i in soup.find_all('span', class_=\"table-body__logo-text\"):\n",
    "    team.append(i.text)\n",
    "text_1=soup.find('div',class_=\"rankings-block__banner--nationality\")\n",
    "team.insert(0,text_1.text.strip().split()[0])\n",
    "team[:10]"
   ]
  },
  {
   "cell_type": "code",
   "execution_count": 103,
   "id": "0eed5301",
   "metadata": {},
   "outputs": [
    {
     "data": {
      "text/plain": [
       "['421', '389', '382', '349', '329', '328', '312', '241', '233', '232']"
      ]
     },
     "execution_count": 103,
     "metadata": {},
     "output_type": "execute_result"
    }
   ],
   "source": [
    "rating =[]\n",
    "for i in soup.find_all('td', class_=\"table-body__cell rating\"):\n",
    "    rating.append(i.text)\n",
    "txt_1=soup.find('div', class_=\"rankings-block__banner--rating\")\n",
    "rating.insert(0,txt_1.text)\n",
    "rating[:10]"
   ]
  },
  {
   "cell_type": "code",
   "execution_count": 104,
   "id": "64697adb",
   "metadata": {},
   "outputs": [
    {
     "name": "stdout",
     "output_type": "stream",
     "text": [
      "******************************************************************************************\n",
      " Top 10 women’s ODI all-rounder along with the records of their team and rating.\n",
      "******************************************************************************************\n"
     ]
    },
    {
     "data": {
      "text/html": [
       "<div>\n",
       "<style scoped>\n",
       "    .dataframe tbody tr th:only-of-type {\n",
       "        vertical-align: middle;\n",
       "    }\n",
       "\n",
       "    .dataframe tbody tr th {\n",
       "        vertical-align: top;\n",
       "    }\n",
       "\n",
       "    .dataframe thead th {\n",
       "        text-align: right;\n",
       "    }\n",
       "</style>\n",
       "<table border=\"1\" class=\"dataframe\">\n",
       "  <thead>\n",
       "    <tr style=\"text-align: right;\">\n",
       "      <th></th>\n",
       "      <th>Name</th>\n",
       "      <th>Team</th>\n",
       "      <th>Ratings</th>\n",
       "    </tr>\n",
       "  </thead>\n",
       "  <tbody>\n",
       "    <tr>\n",
       "      <th>0</th>\n",
       "      <td>Natalie Sciver-Brunt</td>\n",
       "      <td>ENG</td>\n",
       "      <td>421</td>\n",
       "    </tr>\n",
       "    <tr>\n",
       "      <th>1</th>\n",
       "      <td>Ashleigh Gardner</td>\n",
       "      <td>AUS</td>\n",
       "      <td>389</td>\n",
       "    </tr>\n",
       "    <tr>\n",
       "      <th>2</th>\n",
       "      <td>Hayley Matthews</td>\n",
       "      <td>WI</td>\n",
       "      <td>382</td>\n",
       "    </tr>\n",
       "    <tr>\n",
       "      <th>3</th>\n",
       "      <td>Marizanne Kapp</td>\n",
       "      <td>SA</td>\n",
       "      <td>349</td>\n",
       "    </tr>\n",
       "    <tr>\n",
       "      <th>4</th>\n",
       "      <td>Ellyse Perry</td>\n",
       "      <td>AUS</td>\n",
       "      <td>329</td>\n",
       "    </tr>\n",
       "    <tr>\n",
       "      <th>5</th>\n",
       "      <td>Amelia Kerr</td>\n",
       "      <td>NZ</td>\n",
       "      <td>328</td>\n",
       "    </tr>\n",
       "    <tr>\n",
       "      <th>6</th>\n",
       "      <td>Deepti Sharma</td>\n",
       "      <td>IND</td>\n",
       "      <td>312</td>\n",
       "    </tr>\n",
       "    <tr>\n",
       "      <th>7</th>\n",
       "      <td>Jess Jonassen</td>\n",
       "      <td>AUS</td>\n",
       "      <td>241</td>\n",
       "    </tr>\n",
       "    <tr>\n",
       "      <th>8</th>\n",
       "      <td>Sophie Devine</td>\n",
       "      <td>NZ</td>\n",
       "      <td>233</td>\n",
       "    </tr>\n",
       "    <tr>\n",
       "      <th>9</th>\n",
       "      <td>Nida Dar</td>\n",
       "      <td>PAK</td>\n",
       "      <td>232</td>\n",
       "    </tr>\n",
       "  </tbody>\n",
       "</table>\n",
       "</div>"
      ],
      "text/plain": [
       "                   Name Team Ratings\n",
       "0  Natalie Sciver-Brunt  ENG     421\n",
       "1      Ashleigh Gardner  AUS     389\n",
       "2       Hayley Matthews   WI     382\n",
       "3        Marizanne Kapp   SA     349\n",
       "4          Ellyse Perry  AUS     329\n",
       "5           Amelia Kerr   NZ     328\n",
       "6         Deepti Sharma  IND     312\n",
       "7         Jess Jonassen  AUS     241\n",
       "8         Sophie Devine   NZ     233\n",
       "9              Nida Dar  PAK     232"
      ]
     },
     "execution_count": 104,
     "metadata": {},
     "output_type": "execute_result"
    }
   ],
   "source": [
    "import pandas as pd\n",
    "nf = pd.DataFrame({'Name':names[:10], 'Team':team[:10],'Ratings':rating[:10]})\n",
    "print(\"*\" * 90 + \"\\n Top 10 women’s ODI all-rounder along with the records of their team and rating.\\n\" + \"*\" * 90)\n",
    "\n",
    "nf"
   ]
  },
  {
   "cell_type": "code",
   "execution_count": null,
   "id": "680f9473",
   "metadata": {},
   "outputs": [],
   "source": []
  },
  {
   "cell_type": "markdown",
   "id": "44224474",
   "metadata": {},
   "source": [
    "### 5  Write a python program to scrape mentioned news details from https://www.cnbc.com/world/?region=world and make data frame- i) Headline ii) Time \n",
    "### iii) News Link\n"
   ]
  },
  {
   "cell_type": "code",
   "execution_count": 4,
   "id": "2e0ebecd",
   "metadata": {},
   "outputs": [],
   "source": [
    "page = requests.get('https://www.cnbc.com/world/?region=world')"
   ]
  },
  {
   "cell_type": "code",
   "execution_count": 6,
   "id": "64c24b9b",
   "metadata": {},
   "outputs": [],
   "source": [
    "soup = BeautifulSoup(page.content)"
   ]
  },
  {
   "cell_type": "code",
   "execution_count": 7,
   "id": "b454bcb5",
   "metadata": {},
   "outputs": [],
   "source": [
    "headline= []\n",
    "for i in soup.find_all('a',class_=\"LatestNews-headline\"):\n",
    "    headline.append(i.text)    "
   ]
  },
  {
   "cell_type": "code",
   "execution_count": 8,
   "id": "c3c745d1",
   "metadata": {},
   "outputs": [],
   "source": [
    "time= []\n",
    "for i in soup.find_all('time',class_=\"LatestNews-timestamp\"):\n",
    "    time.append(i.text)"
   ]
  },
  {
   "cell_type": "code",
   "execution_count": 9,
   "id": "caf423b2",
   "metadata": {},
   "outputs": [],
   "source": [
    "News_Link= []\n",
    "for i in soup.find_all('a',class_=\"LatestNews-headline\"):\n",
    "    News_Link.append(i.get('href'))  "
   ]
  },
  {
   "cell_type": "code",
   "execution_count": 10,
   "id": "5ac6d3cd",
   "metadata": {},
   "outputs": [
    {
     "data": {
      "text/html": [
       "<div>\n",
       "<style scoped>\n",
       "    .dataframe tbody tr th:only-of-type {\n",
       "        vertical-align: middle;\n",
       "    }\n",
       "\n",
       "    .dataframe tbody tr th {\n",
       "        vertical-align: top;\n",
       "    }\n",
       "\n",
       "    .dataframe thead th {\n",
       "        text-align: right;\n",
       "    }\n",
       "</style>\n",
       "<table border=\"1\" class=\"dataframe\">\n",
       "  <thead>\n",
       "    <tr style=\"text-align: right;\">\n",
       "      <th></th>\n",
       "      <th>headline</th>\n",
       "      <th>Time</th>\n",
       "      <th>News Link</th>\n",
       "    </tr>\n",
       "  </thead>\n",
       "  <tbody>\n",
       "    <tr>\n",
       "      <th>0</th>\n",
       "      <td>Palo Alto shares rise on earnings beat, after ...</td>\n",
       "      <td>8 Hours Ago</td>\n",
       "      <td>https://www.cnbc.com/2023/08/18/palo-alto-netw...</td>\n",
       "    </tr>\n",
       "    <tr>\n",
       "      <th>1</th>\n",
       "      <td>Wall Street awaits hotly anticipated Nvidia ea...</td>\n",
       "      <td>8 Hours Ago</td>\n",
       "      <td>https://www.cnbc.com/2023/08/18/wall-street-pr...</td>\n",
       "    </tr>\n",
       "    <tr>\n",
       "      <th>2</th>\n",
       "      <td>WeWork plunges another 11% after announcing re...</td>\n",
       "      <td>9 Hours Ago</td>\n",
       "      <td>https://www.cnbc.com/2023/08/18/wework-plunges...</td>\n",
       "    </tr>\n",
       "    <tr>\n",
       "      <th>3</th>\n",
       "      <td>The iPhone 15 could get one of the biggest upg...</td>\n",
       "      <td>9 Hours Ago</td>\n",
       "      <td>https://www.cnbc.com/2023/08/18/iphone-15-usb-...</td>\n",
       "    </tr>\n",
       "    <tr>\n",
       "      <th>4</th>\n",
       "      <td>Coral bleaching event in Florida is 'just the ...</td>\n",
       "      <td>10 Hours Ago</td>\n",
       "      <td>https://www.cnbc.com/2023/08/18/noaa-florida-c...</td>\n",
       "    </tr>\n",
       "    <tr>\n",
       "      <th>5</th>\n",
       "      <td>Bitcoin is giving a bearish signal. Here’s wha...</td>\n",
       "      <td>10 Hours Ago</td>\n",
       "      <td>https://www.cnbc.com/2023/08/18/bitcoin-is-giv...</td>\n",
       "    </tr>\n",
       "    <tr>\n",
       "      <th>6</th>\n",
       "      <td>Earnings show shoppers will spend money for va...</td>\n",
       "      <td>10 Hours Ago</td>\n",
       "      <td>https://www.cnbc.com/2023/08/18/retail-earning...</td>\n",
       "    </tr>\n",
       "    <tr>\n",
       "      <th>7</th>\n",
       "      <td>Nvidia, key Powell speech to take center stage...</td>\n",
       "      <td>10 Hours Ago</td>\n",
       "      <td>https://www.cnbc.com/2023/08/18/nvidia-powell-...</td>\n",
       "    </tr>\n",
       "    <tr>\n",
       "      <th>8</th>\n",
       "      <td>My HomePod is now a very expensive doorstop</td>\n",
       "      <td>10 Hours Ago</td>\n",
       "      <td>https://www.cnbc.com/2023/08/18/apple-wont-rep...</td>\n",
       "    </tr>\n",
       "    <tr>\n",
       "      <th>9</th>\n",
       "      <td>3 trends are dividing restaurant companies int...</td>\n",
       "      <td>10 Hours Ago</td>\n",
       "      <td>https://www.cnbc.com/2023/08/18/mcdonalds-chip...</td>\n",
       "    </tr>\n",
       "    <tr>\n",
       "      <th>10</th>\n",
       "      <td>How hurricanes may affect the 2024 Social Secu...</td>\n",
       "      <td>10 Hours Ago</td>\n",
       "      <td>https://www.cnbc.com/2023/08/18/social-securit...</td>\n",
       "    </tr>\n",
       "    <tr>\n",
       "      <th>11</th>\n",
       "      <td>Rosenblatt names its top picks to play the ‘ag...</td>\n",
       "      <td>10 Hours Ago</td>\n",
       "      <td>https://www.cnbc.com/2023/08/18/rosenblatt-nam...</td>\n",
       "    </tr>\n",
       "    <tr>\n",
       "      <th>12</th>\n",
       "      <td>It may be tough for Apple to outperform from h...</td>\n",
       "      <td>11 Hours Ago</td>\n",
       "      <td>https://www.cnbc.com/2023/08/18/it-may-be-toug...</td>\n",
       "    </tr>\n",
       "    <tr>\n",
       "      <th>13</th>\n",
       "      <td>'Blue Beetle' tries to take down 'Barbie' in a...</td>\n",
       "      <td>11 Hours Ago</td>\n",
       "      <td>https://www.cnbc.com/2023/08/18/barbie-vs-blue...</td>\n",
       "    </tr>\n",
       "    <tr>\n",
       "      <th>14</th>\n",
       "      <td>Here's where to find opportunities in dividend...</td>\n",
       "      <td>11 Hours Ago</td>\n",
       "      <td>https://www.cnbc.com/2023/08/18/heres-where-to...</td>\n",
       "    </tr>\n",
       "    <tr>\n",
       "      <th>15</th>\n",
       "      <td>The 'world's cheapest home' is on sale for $1</td>\n",
       "      <td>11 Hours Ago</td>\n",
       "      <td>https://www.cnbc.com/2023/08/18/the-worlds-che...</td>\n",
       "    </tr>\n",
       "    <tr>\n",
       "      <th>16</th>\n",
       "      <td>We are maintaining our position in Estee Laude...</td>\n",
       "      <td>11 Hours Ago</td>\n",
       "      <td>https://www.cnbc.com/2023/08/18/we-are-maintai...</td>\n",
       "    </tr>\n",
       "    <tr>\n",
       "      <th>17</th>\n",
       "      <td>Top GOP China hawk says White House investment...</td>\n",
       "      <td>12 Hours Ago</td>\n",
       "      <td>https://www.cnbc.com/2023/08/18/top-gop-voice-...</td>\n",
       "    </tr>\n",
       "    <tr>\n",
       "      <th>18</th>\n",
       "      <td>Here are some of the companies saying weight l...</td>\n",
       "      <td>12 Hours Ago</td>\n",
       "      <td>https://www.cnbc.com/2023/08/18/here-are-some-...</td>\n",
       "    </tr>\n",
       "    <tr>\n",
       "      <th>19</th>\n",
       "      <td>Elon Musk says users on X, formerly Twitter, w...</td>\n",
       "      <td>12 Hours Ago</td>\n",
       "      <td>https://www.cnbc.com/2023/08/18/elon-musk-says...</td>\n",
       "    </tr>\n",
       "    <tr>\n",
       "      <th>20</th>\n",
       "      <td>4 places to keep your cash as the Federal Rese...</td>\n",
       "      <td>12 Hours Ago</td>\n",
       "      <td>https://www.cnbc.com/2023/08/18/4-best-places-...</td>\n",
       "    </tr>\n",
       "    <tr>\n",
       "      <th>21</th>\n",
       "      <td>Bank of America calls this transportation stoc...</td>\n",
       "      <td>13 Hours Ago</td>\n",
       "      <td>https://www.cnbc.com/2023/08/18/bank-of-americ...</td>\n",
       "    </tr>\n",
       "    <tr>\n",
       "      <th>22</th>\n",
       "      <td>Stocks making the biggest moves midday: Xpeng,...</td>\n",
       "      <td>13 Hours Ago</td>\n",
       "      <td>https://www.cnbc.com/2023/08/18/stocks-making-...</td>\n",
       "    </tr>\n",
       "    <tr>\n",
       "      <th>23</th>\n",
       "      <td>Judge denies Trump request to delay E. Jean Ca...</td>\n",
       "      <td>13 Hours Ago</td>\n",
       "      <td>https://www.cnbc.com/2023/08/18/judge-denies-t...</td>\n",
       "    </tr>\n",
       "    <tr>\n",
       "      <th>24</th>\n",
       "      <td>We're exiting this energy stock, while adding ...</td>\n",
       "      <td>13 Hours Ago</td>\n",
       "      <td>https://www.cnbc.com/2023/08/18/were-exiting-t...</td>\n",
       "    </tr>\n",
       "    <tr>\n",
       "      <th>25</th>\n",
       "      <td>Harvard-trained career coach: Successful peopl...</td>\n",
       "      <td>13 Hours Ago</td>\n",
       "      <td>https://www.cnbc.com/2023/08/18/harvard-traine...</td>\n",
       "    </tr>\n",
       "    <tr>\n",
       "      <th>26</th>\n",
       "      <td>Investors are jumping back into short-term bo...</td>\n",
       "      <td>13 Hours Ago</td>\n",
       "      <td>https://www.cnbc.com/2023/08/18/-investors-are...</td>\n",
       "    </tr>\n",
       "    <tr>\n",
       "      <th>27</th>\n",
       "      <td>Disney seeks damages in DeSantis board's lawsu...</td>\n",
       "      <td>13 Hours Ago</td>\n",
       "      <td>https://www.cnbc.com/2023/08/18/disney-seeks-d...</td>\n",
       "    </tr>\n",
       "    <tr>\n",
       "      <th>28</th>\n",
       "      <td>Citi says this high-flying Brazilian stock can...</td>\n",
       "      <td>14 Hours Ago</td>\n",
       "      <td>https://www.cnbc.com/2023/08/18/citi-says-this...</td>\n",
       "    </tr>\n",
       "    <tr>\n",
       "      <th>29</th>\n",
       "      <td>What Wall Street needs to know about UAW negot...</td>\n",
       "      <td>14 Hours Ago</td>\n",
       "      <td>https://www.cnbc.com/2023/08/18/what-uaw-negot...</td>\n",
       "    </tr>\n",
       "  </tbody>\n",
       "</table>\n",
       "</div>"
      ],
      "text/plain": [
       "                                             headline          Time  \\\n",
       "0   Palo Alto shares rise on earnings beat, after ...   8 Hours Ago   \n",
       "1   Wall Street awaits hotly anticipated Nvidia ea...   8 Hours Ago   \n",
       "2   WeWork plunges another 11% after announcing re...   9 Hours Ago   \n",
       "3   The iPhone 15 could get one of the biggest upg...   9 Hours Ago   \n",
       "4   Coral bleaching event in Florida is 'just the ...  10 Hours Ago   \n",
       "5   Bitcoin is giving a bearish signal. Here’s wha...  10 Hours Ago   \n",
       "6   Earnings show shoppers will spend money for va...  10 Hours Ago   \n",
       "7   Nvidia, key Powell speech to take center stage...  10 Hours Ago   \n",
       "8         My HomePod is now a very expensive doorstop  10 Hours Ago   \n",
       "9   3 trends are dividing restaurant companies int...  10 Hours Ago   \n",
       "10  How hurricanes may affect the 2024 Social Secu...  10 Hours Ago   \n",
       "11  Rosenblatt names its top picks to play the ‘ag...  10 Hours Ago   \n",
       "12  It may be tough for Apple to outperform from h...  11 Hours Ago   \n",
       "13  'Blue Beetle' tries to take down 'Barbie' in a...  11 Hours Ago   \n",
       "14  Here's where to find opportunities in dividend...  11 Hours Ago   \n",
       "15      The 'world's cheapest home' is on sale for $1  11 Hours Ago   \n",
       "16  We are maintaining our position in Estee Laude...  11 Hours Ago   \n",
       "17  Top GOP China hawk says White House investment...  12 Hours Ago   \n",
       "18  Here are some of the companies saying weight l...  12 Hours Ago   \n",
       "19  Elon Musk says users on X, formerly Twitter, w...  12 Hours Ago   \n",
       "20  4 places to keep your cash as the Federal Rese...  12 Hours Ago   \n",
       "21  Bank of America calls this transportation stoc...  13 Hours Ago   \n",
       "22  Stocks making the biggest moves midday: Xpeng,...  13 Hours Ago   \n",
       "23  Judge denies Trump request to delay E. Jean Ca...  13 Hours Ago   \n",
       "24  We're exiting this energy stock, while adding ...  13 Hours Ago   \n",
       "25  Harvard-trained career coach: Successful peopl...  13 Hours Ago   \n",
       "26   Investors are jumping back into short-term bo...  13 Hours Ago   \n",
       "27  Disney seeks damages in DeSantis board's lawsu...  13 Hours Ago   \n",
       "28  Citi says this high-flying Brazilian stock can...  14 Hours Ago   \n",
       "29  What Wall Street needs to know about UAW negot...  14 Hours Ago   \n",
       "\n",
       "                                            News Link  \n",
       "0   https://www.cnbc.com/2023/08/18/palo-alto-netw...  \n",
       "1   https://www.cnbc.com/2023/08/18/wall-street-pr...  \n",
       "2   https://www.cnbc.com/2023/08/18/wework-plunges...  \n",
       "3   https://www.cnbc.com/2023/08/18/iphone-15-usb-...  \n",
       "4   https://www.cnbc.com/2023/08/18/noaa-florida-c...  \n",
       "5   https://www.cnbc.com/2023/08/18/bitcoin-is-giv...  \n",
       "6   https://www.cnbc.com/2023/08/18/retail-earning...  \n",
       "7   https://www.cnbc.com/2023/08/18/nvidia-powell-...  \n",
       "8   https://www.cnbc.com/2023/08/18/apple-wont-rep...  \n",
       "9   https://www.cnbc.com/2023/08/18/mcdonalds-chip...  \n",
       "10  https://www.cnbc.com/2023/08/18/social-securit...  \n",
       "11  https://www.cnbc.com/2023/08/18/rosenblatt-nam...  \n",
       "12  https://www.cnbc.com/2023/08/18/it-may-be-toug...  \n",
       "13  https://www.cnbc.com/2023/08/18/barbie-vs-blue...  \n",
       "14  https://www.cnbc.com/2023/08/18/heres-where-to...  \n",
       "15  https://www.cnbc.com/2023/08/18/the-worlds-che...  \n",
       "16  https://www.cnbc.com/2023/08/18/we-are-maintai...  \n",
       "17  https://www.cnbc.com/2023/08/18/top-gop-voice-...  \n",
       "18  https://www.cnbc.com/2023/08/18/here-are-some-...  \n",
       "19  https://www.cnbc.com/2023/08/18/elon-musk-says...  \n",
       "20  https://www.cnbc.com/2023/08/18/4-best-places-...  \n",
       "21  https://www.cnbc.com/2023/08/18/bank-of-americ...  \n",
       "22  https://www.cnbc.com/2023/08/18/stocks-making-...  \n",
       "23  https://www.cnbc.com/2023/08/18/judge-denies-t...  \n",
       "24  https://www.cnbc.com/2023/08/18/were-exiting-t...  \n",
       "25  https://www.cnbc.com/2023/08/18/harvard-traine...  \n",
       "26  https://www.cnbc.com/2023/08/18/-investors-are...  \n",
       "27  https://www.cnbc.com/2023/08/18/disney-seeks-d...  \n",
       "28  https://www.cnbc.com/2023/08/18/citi-says-this...  \n",
       "29  https://www.cnbc.com/2023/08/18/what-uaw-negot...  "
      ]
     },
     "execution_count": 10,
     "metadata": {},
     "output_type": "execute_result"
    }
   ],
   "source": [
    "import pandas as pd\n",
    "\n",
    "nf = pd.DataFrame({'headline':headline,'Time':time,'News Link':News_Link})\n",
    "nf"
   ]
  },
  {
   "cell_type": "markdown",
   "id": "ba14a062",
   "metadata": {},
   "source": [
    "### 6)\tWrite a python program to scrape the details of most downloaded articles from AI in last 90 days.https://www.journals.elsevier.com/artificial-intelligence/most-downloaded-articles Scrape below mentioned details and make data frame- i) \tPaper Title ii) \tAuthors iii) \tPublished Date iv) \tPaper URL "
   ]
  },
  {
   "cell_type": "code",
   "execution_count": 28,
   "id": "af90280a",
   "metadata": {},
   "outputs": [],
   "source": [
    "page = requests.get('https://www.journals.elsevier.com/artificial-intelligence/most-downloaded-articles')"
   ]
  },
  {
   "cell_type": "code",
   "execution_count": 30,
   "id": "91aab92a",
   "metadata": {},
   "outputs": [],
   "source": [
    "soup = BeautifulSoup(page.content)"
   ]
  },
  {
   "cell_type": "code",
   "execution_count": 31,
   "id": "23975b03",
   "metadata": {},
   "outputs": [],
   "source": [
    "titles = []\n",
    "for i in soup.find_all('h2',class_=\"sc-1qrq3sd-1 gRGSUS sc-1nmom32-0 sc-1nmom32-1 btcbYu goSKRg\"):\n",
    "    titles.append(i.text)"
   ]
  },
  {
   "cell_type": "code",
   "execution_count": 32,
   "id": "32620fd0",
   "metadata": {},
   "outputs": [],
   "source": [
    "authors = []\n",
    "for i in soup.find_all('span',class_=\"sc-1w3fpd7-0 dnCnAO\"):\n",
    "    authors.append(i.text)"
   ]
  },
  {
   "cell_type": "code",
   "execution_count": 33,
   "id": "26326ec5",
   "metadata": {},
   "outputs": [],
   "source": [
    "p_date =[]\n",
    "for i in soup.find_all('span',class_=\"sc-1thf9ly-2 dvggWt\"):\n",
    "    p_date.append(i.text)"
   ]
  },
  {
   "cell_type": "code",
   "execution_count": 47,
   "id": "9f6ca1ae",
   "metadata": {},
   "outputs": [],
   "source": [
    "p_urls = []\n",
    "for a_tag in soup.find_all('a', class_=\"sc-5smygv-0 fIXTHm\"):\n",
    "    href = a_tag.get('href')\n",
    "    if href:\n",
    "        p_urls.append(href)\n"
   ]
  },
  {
   "cell_type": "code",
   "execution_count": 45,
   "id": "23517f70",
   "metadata": {},
   "outputs": [
    {
     "data": {
      "text/html": [
       "<div>\n",
       "<style scoped>\n",
       "    .dataframe tbody tr th:only-of-type {\n",
       "        vertical-align: middle;\n",
       "    }\n",
       "\n",
       "    .dataframe tbody tr th {\n",
       "        vertical-align: top;\n",
       "    }\n",
       "\n",
       "    .dataframe thead th {\n",
       "        text-align: right;\n",
       "    }\n",
       "</style>\n",
       "<table border=\"1\" class=\"dataframe\">\n",
       "  <thead>\n",
       "    <tr style=\"text-align: right;\">\n",
       "      <th></th>\n",
       "      <th>Titles</th>\n",
       "      <th>Authors</th>\n",
       "      <th>Published date</th>\n",
       "      <th>URL</th>\n",
       "    </tr>\n",
       "  </thead>\n",
       "  <tbody>\n",
       "    <tr>\n",
       "      <th>0</th>\n",
       "      <td>Reward is enough</td>\n",
       "      <td>David Silver, Satinder Singh, Doina Precup, Ri...</td>\n",
       "      <td>October 2021</td>\n",
       "      <td>https://www.sciencedirect.com/science/article/...</td>\n",
       "    </tr>\n",
       "    <tr>\n",
       "      <th>1</th>\n",
       "      <td>Explanation in artificial intelligence: Insigh...</td>\n",
       "      <td>Tim Miller</td>\n",
       "      <td>February 2019</td>\n",
       "      <td>https://www.sciencedirect.com/science/article/...</td>\n",
       "    </tr>\n",
       "    <tr>\n",
       "      <th>2</th>\n",
       "      <td>Creativity and artificial intelligence</td>\n",
       "      <td>Margaret A. Boden</td>\n",
       "      <td>August 1998</td>\n",
       "      <td>https://www.sciencedirect.com/science/article/...</td>\n",
       "    </tr>\n",
       "    <tr>\n",
       "      <th>3</th>\n",
       "      <td>Conflict-based search for optimal multi-agent ...</td>\n",
       "      <td>Guni Sharon, Roni Stern, Ariel Felner, Nathan ...</td>\n",
       "      <td>February 2015</td>\n",
       "      <td>https://www.sciencedirect.com/science/article/...</td>\n",
       "    </tr>\n",
       "    <tr>\n",
       "      <th>4</th>\n",
       "      <td>Knowledge graphs as tools for explainable mach...</td>\n",
       "      <td>Ilaria Tiddi, Stefan Schlobach</td>\n",
       "      <td>January 2022</td>\n",
       "      <td>https://www.sciencedirect.com/science/article/...</td>\n",
       "    </tr>\n",
       "    <tr>\n",
       "      <th>5</th>\n",
       "      <td>Law and logic: A review from an argumentation ...</td>\n",
       "      <td>Henry Prakken, Giovanni Sartor</td>\n",
       "      <td>October 2015</td>\n",
       "      <td>https://www.sciencedirect.com/science/article/...</td>\n",
       "    </tr>\n",
       "    <tr>\n",
       "      <th>6</th>\n",
       "      <td>Between MDPs and semi-MDPs: A framework for te...</td>\n",
       "      <td>Richard S. Sutton, Doina Precup, Satinder Singh</td>\n",
       "      <td>August 1999</td>\n",
       "      <td>https://www.sciencedirect.com/science/article/...</td>\n",
       "    </tr>\n",
       "    <tr>\n",
       "      <th>7</th>\n",
       "      <td>Explaining individual predictions when feature...</td>\n",
       "      <td>Kjersti Aas, Martin Jullum, Anders Løland</td>\n",
       "      <td>September 2021</td>\n",
       "      <td>https://www.sciencedirect.com/science/article/...</td>\n",
       "    </tr>\n",
       "    <tr>\n",
       "      <th>8</th>\n",
       "      <td>Multiple object tracking: A literature review</td>\n",
       "      <td>Wenhan Luo, Junliang Xing and 4 more</td>\n",
       "      <td>April 2021</td>\n",
       "      <td>https://www.sciencedirect.com/science/article/...</td>\n",
       "    </tr>\n",
       "    <tr>\n",
       "      <th>9</th>\n",
       "      <td>A survey of inverse reinforcement learning: Ch...</td>\n",
       "      <td>Saurabh Arora, Prashant Doshi</td>\n",
       "      <td>August 2021</td>\n",
       "      <td>https://www.sciencedirect.com/science/article/...</td>\n",
       "    </tr>\n",
       "    <tr>\n",
       "      <th>10</th>\n",
       "      <td>Evaluating XAI: A comparison of rule-based and...</td>\n",
       "      <td>Jasper van der Waa, Elisabeth Nieuwburg, Anita...</td>\n",
       "      <td>February 2021</td>\n",
       "      <td>https://www.sciencedirect.com/science/article/...</td>\n",
       "    </tr>\n",
       "    <tr>\n",
       "      <th>11</th>\n",
       "      <td>Explainable AI tools for legal reasoning about...</td>\n",
       "      <td>Joe Collenette, Katie Atkinson, Trevor Bench-C...</td>\n",
       "      <td>April 2023</td>\n",
       "      <td>https://www.sciencedirect.com/science/article/...</td>\n",
       "    </tr>\n",
       "    <tr>\n",
       "      <th>12</th>\n",
       "      <td>Hard choices in artificial intelligence</td>\n",
       "      <td>Roel Dobbe, Thomas Krendl Gilbert, Yonatan Mintz</td>\n",
       "      <td>November 2021</td>\n",
       "      <td>https://www.sciencedirect.com/science/article/...</td>\n",
       "    </tr>\n",
       "    <tr>\n",
       "      <th>13</th>\n",
       "      <td>Assessing the communication gap between AI mod...</td>\n",
       "      <td>Oskar Wysocki, Jessica Katharine Davies and 5 ...</td>\n",
       "      <td>March 2023</td>\n",
       "      <td>https://www.sciencedirect.com/science/article/...</td>\n",
       "    </tr>\n",
       "    <tr>\n",
       "      <th>14</th>\n",
       "      <td>Explaining black-box classifiers using post-ho...</td>\n",
       "      <td>Eoin M. Kenny, Courtney Ford, Molly Quinn, Mar...</td>\n",
       "      <td>May 2021</td>\n",
       "      <td>https://www.sciencedirect.com/science/article/...</td>\n",
       "    </tr>\n",
       "    <tr>\n",
       "      <th>15</th>\n",
       "      <td>The Hanabi challenge: A new frontier for AI re...</td>\n",
       "      <td>Nolan Bard, Jakob N. Foerster and 13 more</td>\n",
       "      <td>March 2020</td>\n",
       "      <td>https://www.sciencedirect.com/science/article/...</td>\n",
       "    </tr>\n",
       "    <tr>\n",
       "      <th>16</th>\n",
       "      <td>Wrappers for feature subset selection</td>\n",
       "      <td>Ron Kohavi, George H. John</td>\n",
       "      <td>December 1997</td>\n",
       "      <td>https://www.sciencedirect.com/science/article/...</td>\n",
       "    </tr>\n",
       "    <tr>\n",
       "      <th>17</th>\n",
       "      <td>Artificial cognition for social human–robot in...</td>\n",
       "      <td>Séverin Lemaignan, Mathieu Warnier and 3 more</td>\n",
       "      <td>June 2017</td>\n",
       "      <td>https://www.sciencedirect.com/science/article/...</td>\n",
       "    </tr>\n",
       "    <tr>\n",
       "      <th>18</th>\n",
       "      <td>A review of possible effects of cognitive bias...</td>\n",
       "      <td>Tomáš Kliegr, Štěpán Bahník, Johannes Fürnkranz</td>\n",
       "      <td>June 2021</td>\n",
       "      <td>https://www.sciencedirect.com/science/article/...</td>\n",
       "    </tr>\n",
       "    <tr>\n",
       "      <th>19</th>\n",
       "      <td>The multifaceted impact of Ada Lovelace in the...</td>\n",
       "      <td>Luigia Carlucci Aiello</td>\n",
       "      <td>June 2016</td>\n",
       "      <td>https://www.sciencedirect.com/science/article/...</td>\n",
       "    </tr>\n",
       "    <tr>\n",
       "      <th>20</th>\n",
       "      <td>Robot ethics: Mapping the issues for a mechani...</td>\n",
       "      <td>Patrick Lin, Keith Abney, George Bekey</td>\n",
       "      <td>April 2011</td>\n",
       "      <td>https://www.sciencedirect.com/science/article/...</td>\n",
       "    </tr>\n",
       "    <tr>\n",
       "      <th>21</th>\n",
       "      <td>Reward (Mis)design for autonomous driving</td>\n",
       "      <td>W. Bradley Knox, Alessandro Allievi and 3 more</td>\n",
       "      <td>March 2023</td>\n",
       "      <td>https://www.sciencedirect.com/science/article/...</td>\n",
       "    </tr>\n",
       "    <tr>\n",
       "      <th>22</th>\n",
       "      <td>Planning and acting in partially observable st...</td>\n",
       "      <td>Leslie Pack Kaelbling, Michael L. Littman, Ant...</td>\n",
       "      <td>May 1998</td>\n",
       "      <td>https://www.sciencedirect.com/science/article/...</td>\n",
       "    </tr>\n",
       "    <tr>\n",
       "      <th>23</th>\n",
       "      <td>What do we want from Explainable Artificial In...</td>\n",
       "      <td>Markus Langer, Daniel Oster and 6 more</td>\n",
       "      <td>July 2021</td>\n",
       "      <td>https://www.sciencedirect.com/science/article/...</td>\n",
       "    </tr>\n",
       "  </tbody>\n",
       "</table>\n",
       "</div>"
      ],
      "text/plain": [
       "                                               Titles  \\\n",
       "0                                    Reward is enough   \n",
       "1   Explanation in artificial intelligence: Insigh...   \n",
       "2              Creativity and artificial intelligence   \n",
       "3   Conflict-based search for optimal multi-agent ...   \n",
       "4   Knowledge graphs as tools for explainable mach...   \n",
       "5   Law and logic: A review from an argumentation ...   \n",
       "6   Between MDPs and semi-MDPs: A framework for te...   \n",
       "7   Explaining individual predictions when feature...   \n",
       "8       Multiple object tracking: A literature review   \n",
       "9   A survey of inverse reinforcement learning: Ch...   \n",
       "10  Evaluating XAI: A comparison of rule-based and...   \n",
       "11  Explainable AI tools for legal reasoning about...   \n",
       "12            Hard choices in artificial intelligence   \n",
       "13  Assessing the communication gap between AI mod...   \n",
       "14  Explaining black-box classifiers using post-ho...   \n",
       "15  The Hanabi challenge: A new frontier for AI re...   \n",
       "16              Wrappers for feature subset selection   \n",
       "17  Artificial cognition for social human–robot in...   \n",
       "18  A review of possible effects of cognitive bias...   \n",
       "19  The multifaceted impact of Ada Lovelace in the...   \n",
       "20  Robot ethics: Mapping the issues for a mechani...   \n",
       "21          Reward (Mis)design for autonomous driving   \n",
       "22  Planning and acting in partially observable st...   \n",
       "23  What do we want from Explainable Artificial In...   \n",
       "\n",
       "                                              Authors  Published date  \\\n",
       "0   David Silver, Satinder Singh, Doina Precup, Ri...    October 2021   \n",
       "1                                         Tim Miller    February 2019   \n",
       "2                                  Margaret A. Boden      August 1998   \n",
       "3   Guni Sharon, Roni Stern, Ariel Felner, Nathan ...   February 2015   \n",
       "4                     Ilaria Tiddi, Stefan Schlobach     January 2022   \n",
       "5                     Henry Prakken, Giovanni Sartor     October 2015   \n",
       "6    Richard S. Sutton, Doina Precup, Satinder Singh      August 1999   \n",
       "7          Kjersti Aas, Martin Jullum, Anders Løland   September 2021   \n",
       "8                Wenhan Luo, Junliang Xing and 4 more      April 2021   \n",
       "9                      Saurabh Arora, Prashant Doshi      August 2021   \n",
       "10  Jasper van der Waa, Elisabeth Nieuwburg, Anita...   February 2021   \n",
       "11  Joe Collenette, Katie Atkinson, Trevor Bench-C...      April 2023   \n",
       "12  Roel Dobbe, Thomas Krendl Gilbert, Yonatan Mintz    November 2021   \n",
       "13  Oskar Wysocki, Jessica Katharine Davies and 5 ...      March 2023   \n",
       "14  Eoin M. Kenny, Courtney Ford, Molly Quinn, Mar...        May 2021   \n",
       "15          Nolan Bard, Jakob N. Foerster and 13 more      March 2020   \n",
       "16                        Ron Kohavi, George H. John    December 1997   \n",
       "17      Séverin Lemaignan, Mathieu Warnier and 3 more       June 2017   \n",
       "18   Tomáš Kliegr, Štěpán Bahník, Johannes Fürnkranz        June 2021   \n",
       "19                            Luigia Carlucci Aiello        June 2016   \n",
       "20            Patrick Lin, Keith Abney, George Bekey       April 2011   \n",
       "21     W. Bradley Knox, Alessandro Allievi and 3 more      March 2023   \n",
       "22  Leslie Pack Kaelbling, Michael L. Littman, Ant...        May 1998   \n",
       "23             Markus Langer, Daniel Oster and 6 more       July 2021   \n",
       "\n",
       "                                                  URL  \n",
       "0   https://www.sciencedirect.com/science/article/...  \n",
       "1   https://www.sciencedirect.com/science/article/...  \n",
       "2   https://www.sciencedirect.com/science/article/...  \n",
       "3   https://www.sciencedirect.com/science/article/...  \n",
       "4   https://www.sciencedirect.com/science/article/...  \n",
       "5   https://www.sciencedirect.com/science/article/...  \n",
       "6   https://www.sciencedirect.com/science/article/...  \n",
       "7   https://www.sciencedirect.com/science/article/...  \n",
       "8   https://www.sciencedirect.com/science/article/...  \n",
       "9   https://www.sciencedirect.com/science/article/...  \n",
       "10  https://www.sciencedirect.com/science/article/...  \n",
       "11  https://www.sciencedirect.com/science/article/...  \n",
       "12  https://www.sciencedirect.com/science/article/...  \n",
       "13  https://www.sciencedirect.com/science/article/...  \n",
       "14  https://www.sciencedirect.com/science/article/...  \n",
       "15  https://www.sciencedirect.com/science/article/...  \n",
       "16  https://www.sciencedirect.com/science/article/...  \n",
       "17  https://www.sciencedirect.com/science/article/...  \n",
       "18  https://www.sciencedirect.com/science/article/...  \n",
       "19  https://www.sciencedirect.com/science/article/...  \n",
       "20  https://www.sciencedirect.com/science/article/...  \n",
       "21  https://www.sciencedirect.com/science/article/...  \n",
       "22  https://www.sciencedirect.com/science/article/...  \n",
       "23  https://www.sciencedirect.com/science/article/...  "
      ]
     },
     "execution_count": 45,
     "metadata": {},
     "output_type": "execute_result"
    }
   ],
   "source": [
    "import pandas as pd\n",
    "\n",
    "pf = pd.DataFrame({'Titles':titles,'Authors':authors,'Published date':p_date,'URL':p_urls})\n",
    "pf"
   ]
  },
  {
   "cell_type": "markdown",
   "id": "0c1b9712",
   "metadata": {},
   "source": [
    "### 7)\tWrite a python program to scrape mentioned details from dineout.co.in and make data frame- \n",
    "#### i)\tRestaurant name \n",
    "#### ii)\tCuisine \n",
    "#### iii) Location iv) \tRatings \n",
    "#### v) \tImage URL\n"
   ]
  },
  {
   "cell_type": "code",
   "execution_count": 74,
   "id": "5ad006aa",
   "metadata": {},
   "outputs": [],
   "source": [
    "page = requests.get('https://www.dineout.co.in/delhi-restaurants/buffet-special')"
   ]
  },
  {
   "cell_type": "code",
   "execution_count": 75,
   "id": "5046c16a",
   "metadata": {},
   "outputs": [],
   "source": [
    "soup = BeautifulSoup(page.content)"
   ]
  },
  {
   "cell_type": "code",
   "execution_count": 83,
   "id": "e7679ee4",
   "metadata": {},
   "outputs": [],
   "source": [
    "titles = []\n",
    "for i in soup.find_all('a',class_=\"restnt-name ellipsis\"):\n",
    "    titles.append(i.text)"
   ]
  },
  {
   "cell_type": "code",
   "execution_count": 84,
   "id": "a7e03d51",
   "metadata": {},
   "outputs": [],
   "source": [
    "cuisine = [] \n",
    "for i in soup.find_all('span',class_=\"double-line-ellipsis\"):\n",
    "    cuisine.append(i.text.split('|')[1])"
   ]
  },
  {
   "cell_type": "code",
   "execution_count": 85,
   "id": "c85d9704",
   "metadata": {},
   "outputs": [],
   "source": [
    "location = [] \n",
    "for i in soup.find_all('div',class_=\"restnt-loc ellipsis\"): \n",
    "    location.append(i.text)"
   ]
  },
  {
   "cell_type": "code",
   "execution_count": 86,
   "id": "3dec2e20",
   "metadata": {},
   "outputs": [],
   "source": [
    "rating = [] \n",
    "for i in soup.find_all('div',class_=\"restnt-rating rating-4\"): \n",
    "    rating.append(i.text)"
   ]
  },
  {
   "cell_type": "code",
   "execution_count": 87,
   "id": "5dddb66f",
   "metadata": {},
   "outputs": [],
   "source": [
    "images = []\n",
    "for i in soup.find_all(\"img\",class_=\"no-img\"):\n",
    "    images.append(i.get('data-src'))"
   ]
  },
  {
   "cell_type": "code",
   "execution_count": 88,
   "id": "80aba37b",
   "metadata": {},
   "outputs": [
    {
     "data": {
      "text/html": [
       "<div>\n",
       "<style scoped>\n",
       "    .dataframe tbody tr th:only-of-type {\n",
       "        vertical-align: middle;\n",
       "    }\n",
       "\n",
       "    .dataframe tbody tr th {\n",
       "        vertical-align: top;\n",
       "    }\n",
       "\n",
       "    .dataframe thead th {\n",
       "        text-align: right;\n",
       "    }\n",
       "</style>\n",
       "<table border=\"1\" class=\"dataframe\">\n",
       "  <thead>\n",
       "    <tr style=\"text-align: right;\">\n",
       "      <th></th>\n",
       "      <th>Titles</th>\n",
       "      <th>Cuisine</th>\n",
       "      <th>Location</th>\n",
       "      <th>Rating</th>\n",
       "      <th>Images_url</th>\n",
       "    </tr>\n",
       "  </thead>\n",
       "  <tbody>\n",
       "    <tr>\n",
       "      <th>0</th>\n",
       "      <td>Castle Barbeque</td>\n",
       "      <td>Chinese, North Indian</td>\n",
       "      <td>Connaught Place, Central Delhi</td>\n",
       "      <td>4</td>\n",
       "      <td>https://im1.dineout.co.in/images/uploads/resta...</td>\n",
       "    </tr>\n",
       "    <tr>\n",
       "      <th>1</th>\n",
       "      <td>Cafe Knosh</td>\n",
       "      <td>Italian, Continental</td>\n",
       "      <td>The Leela Ambience Convention Hotel,Shahdara, ...</td>\n",
       "      <td>4.3</td>\n",
       "      <td>https://im1.dineout.co.in/images/uploads/resta...</td>\n",
       "    </tr>\n",
       "    <tr>\n",
       "      <th>2</th>\n",
       "      <td>Castle's Barbeque</td>\n",
       "      <td>Chinese, North Indian</td>\n",
       "      <td>Pacific Mall,Tagore Garden, West Delhi</td>\n",
       "      <td>3.9</td>\n",
       "      <td>https://im1.dineout.co.in/images/uploads/resta...</td>\n",
       "    </tr>\n",
       "    <tr>\n",
       "      <th>3</th>\n",
       "      <td>India Grill</td>\n",
       "      <td>North Indian, Italian</td>\n",
       "      <td>Hilton Garden Inn,Saket, South Delhi</td>\n",
       "      <td>3.9</td>\n",
       "      <td>https://im1.dineout.co.in/images/uploads/resta...</td>\n",
       "    </tr>\n",
       "    <tr>\n",
       "      <th>4</th>\n",
       "      <td>The Barbeque Company</td>\n",
       "      <td>North Indian, Chinese</td>\n",
       "      <td>Gardens Galleria,Sector 38A, Noida</td>\n",
       "      <td>3.9</td>\n",
       "      <td>https://im1.dineout.co.in/images/uploads/resta...</td>\n",
       "    </tr>\n",
       "    <tr>\n",
       "      <th>5</th>\n",
       "      <td>Delhi Barbeque</td>\n",
       "      <td>North Indian</td>\n",
       "      <td>Taurus Sarovar Portico,Mahipalpur, South Delhi</td>\n",
       "      <td>3.7</td>\n",
       "      <td>https://im1.dineout.co.in/images/uploads/resta...</td>\n",
       "    </tr>\n",
       "    <tr>\n",
       "      <th>6</th>\n",
       "      <td>The Monarch - Bar Be Que Village</td>\n",
       "      <td>North Indian</td>\n",
       "      <td>Indirapuram Habitat Centre,Indirapuram, Ghaziabad</td>\n",
       "      <td>3.8</td>\n",
       "      <td>https://im1.dineout.co.in/images/uploads/resta...</td>\n",
       "    </tr>\n",
       "    <tr>\n",
       "      <th>7</th>\n",
       "      <td>The Barbeque Times</td>\n",
       "      <td>North Indian, Continental, Chinese, South Indian</td>\n",
       "      <td>M2K Corporate Park,Sector 51, Gurgaon</td>\n",
       "      <td>4.1</td>\n",
       "      <td>https://im1.dineout.co.in/images/uploads/resta...</td>\n",
       "    </tr>\n",
       "    <tr>\n",
       "      <th>8</th>\n",
       "      <td>Indian Grill Room</td>\n",
       "      <td>North Indian, Mughlai</td>\n",
       "      <td>Suncity Business Tower,Golf Course Road, Gurgaon</td>\n",
       "      <td>4.3</td>\n",
       "      <td>https://im1.dineout.co.in/images/uploads/resta...</td>\n",
       "    </tr>\n",
       "  </tbody>\n",
       "</table>\n",
       "</div>"
      ],
      "text/plain": [
       "                             Titles  \\\n",
       "0                   Castle Barbeque   \n",
       "1                        Cafe Knosh   \n",
       "2                 Castle's Barbeque   \n",
       "3                       India Grill   \n",
       "4              The Barbeque Company   \n",
       "5                    Delhi Barbeque   \n",
       "6  The Monarch - Bar Be Que Village   \n",
       "7                The Barbeque Times   \n",
       "8                 Indian Grill Room   \n",
       "\n",
       "                                             Cuisine  \\\n",
       "0                              Chinese, North Indian   \n",
       "1                               Italian, Continental   \n",
       "2                              Chinese, North Indian   \n",
       "3                              North Indian, Italian   \n",
       "4                              North Indian, Chinese   \n",
       "5                                       North Indian   \n",
       "6                                       North Indian   \n",
       "7   North Indian, Continental, Chinese, South Indian   \n",
       "8                              North Indian, Mughlai   \n",
       "\n",
       "                                            Location Rating  \\\n",
       "0                     Connaught Place, Central Delhi      4   \n",
       "1  The Leela Ambience Convention Hotel,Shahdara, ...    4.3   \n",
       "2             Pacific Mall,Tagore Garden, West Delhi    3.9   \n",
       "3               Hilton Garden Inn,Saket, South Delhi    3.9   \n",
       "4                 Gardens Galleria,Sector 38A, Noida    3.9   \n",
       "5     Taurus Sarovar Portico,Mahipalpur, South Delhi    3.7   \n",
       "6  Indirapuram Habitat Centre,Indirapuram, Ghaziabad    3.8   \n",
       "7              M2K Corporate Park,Sector 51, Gurgaon    4.1   \n",
       "8   Suncity Business Tower,Golf Course Road, Gurgaon    4.3   \n",
       "\n",
       "                                          Images_url  \n",
       "0  https://im1.dineout.co.in/images/uploads/resta...  \n",
       "1  https://im1.dineout.co.in/images/uploads/resta...  \n",
       "2  https://im1.dineout.co.in/images/uploads/resta...  \n",
       "3  https://im1.dineout.co.in/images/uploads/resta...  \n",
       "4  https://im1.dineout.co.in/images/uploads/resta...  \n",
       "5  https://im1.dineout.co.in/images/uploads/resta...  \n",
       "6  https://im1.dineout.co.in/images/uploads/resta...  \n",
       "7  https://im1.dineout.co.in/images/uploads/resta...  \n",
       "8  https://im1.dineout.co.in/images/uploads/resta...  "
      ]
     },
     "execution_count": 88,
     "metadata": {},
     "output_type": "execute_result"
    }
   ],
   "source": [
    "import pandas as pd\n",
    "\n",
    "df = pd.DataFrame({'Titles':titles,'Cuisine':cuisine,'Location':location,'Rating':rating,'Images_url':images})\n",
    "df"
   ]
  }
 ],
 "metadata": {
  "kernelspec": {
   "display_name": "Python 3 (ipykernel)",
   "language": "python",
   "name": "python3"
  },
  "language_info": {
   "codemirror_mode": {
    "name": "ipython",
    "version": 3
   },
   "file_extension": ".py",
   "mimetype": "text/x-python",
   "name": "python",
   "nbconvert_exporter": "python",
   "pygments_lexer": "ipython3",
   "version": "3.9.13"
  }
 },
 "nbformat": 4,
 "nbformat_minor": 5
}
